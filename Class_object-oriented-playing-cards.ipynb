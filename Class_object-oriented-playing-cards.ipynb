{
 "cells": [
  {
   "cell_type": "markdown",
   "metadata": {
    "id": "96UgJeWLPpyG"
   },
   "source": [
    "# Object-Oriented Playing Cards"
   ]
  },
  {
   "cell_type": "markdown",
   "metadata": {},
   "source": [
    "06/14/22"
   ]
  },
  {
   "cell_type": "markdown",
   "metadata": {
    "id": "6AZh3d2hPpyJ"
   },
   "source": [
    "## Topics"
   ]
  },
  {
   "cell_type": "markdown",
   "metadata": {
    "ExecuteTime": {
     "end_time": "2020-03-04T22:48:55.304853Z",
     "start_time": "2020-03-04T22:48:55.299479Z"
    },
    "id": "jBulbLFXPpyJ"
   },
   "source": [
    "- **Defining/Initializing Classes**\n",
    "- **Inspecting classes:**\n",
    "    - `help(obj)` vs `dir(obj)`\n",
    "    \n",
    "- **Deeper dive into Classes/Objects**\n",
    "    - special methods/properties (`__repr__(),__str__(),__call__(),__version__(),__name__()`)\n",
    "    - Methods: vs Bound Methods vs Static Methods \n",
    "    \n",
    "- **Extended Activity: Building a Deck of PlayingCards**"
   ]
  },
  {
   "cell_type": "markdown",
   "metadata": {
    "id": "5u8wXrwuPpyJ"
   },
   "source": [
    "# What does it mean to be 'Object-Oriented'?\n",
    "\n",
    "> ### ___\"Everything is an object.\"___\n",
    "- some Python sensei\n"
   ]
  },
  {
   "cell_type": "markdown",
   "metadata": {
    "id": "pySAKG0dPpyK"
   },
   "source": [
    "- Any function, method, class, variable are ALL objects. \n",
    "    - Built from a template Class\n",
    "    - Can be stored in memory under any name "
   ]
  },
  {
   "cell_type": "code",
   "execution_count": 3,
   "metadata": {},
   "outputs": [
    {
     "data": {
      "text/plain": [
       "<function print>"
      ]
     },
     "execution_count": 3,
     "metadata": {},
     "output_type": "execute_result"
    }
   ],
   "source": [
    "print"
   ]
  },
  {
   "cell_type": "code",
   "execution_count": 4,
   "metadata": {
    "ExecuteTime": {
     "end_time": "2021-04-27T15:01:01.958865Z",
     "start_time": "2021-04-27T15:01:01.948153Z"
    },
    "colab": {
     "base_uri": "https://localhost:8080/"
    },
    "id": "idKF4XGLPpyK",
    "outputId": "9a15626c-054f-4484-8ca1-b8e65f1c64a3"
   },
   "outputs": [
    {
     "data": {
      "text/plain": [
       "<function print>"
      ]
     },
     "execution_count": 4,
     "metadata": {},
     "output_type": "execute_result"
    }
   ],
   "source": [
    "## Any function can be assigned to a new variable and will behave the same way\n",
    "prove_it = print\n",
    "prove_it"
   ]
  },
  {
   "cell_type": "code",
   "execution_count": 5,
   "metadata": {
    "ExecuteTime": {
     "end_time": "2021-04-27T15:01:01.965741Z",
     "start_time": "2021-04-27T15:01:01.961924Z"
    },
    "colab": {
     "base_uri": "https://localhost:8080/"
    },
    "id": "JM1c8TXUPpyL",
    "outputId": "00a53a51-6c0f-4242-b84e-13fcee1a38ff"
   },
   "outputs": [
    {
     "name": "stdout",
     "output_type": "stream",
     "text": [
      "This is now equal to print.\n"
     ]
    }
   ],
   "source": [
    "# test our \"prove_it\" functon\n",
    "prove_it(\"This is now equal to print.\")"
   ]
  },
  {
   "cell_type": "code",
   "execution_count": 6,
   "metadata": {
    "ExecuteTime": {
     "end_time": "2021-04-27T15:01:01.972776Z",
     "start_time": "2021-04-27T15:01:01.969224Z"
    },
    "colab": {
     "base_uri": "https://localhost:8080/"
    },
    "id": "gkRxbutJPpyM",
    "outputId": "06b2a83c-5552-4d69-e506-6f491e44894f"
   },
   "outputs": [
    {
     "name": "stdout",
     "output_type": "stream",
     "text": [
      "Help on built-in function print in module builtins:\n",
      "\n",
      "print(...)\n",
      "    print(value, ..., sep=' ', end='\\n', file=sys.stdout, flush=False)\n",
      "    \n",
      "    Prints the values to a stream, or to sys.stdout by default.\n",
      "    Optional keyword arguments:\n",
      "    file:  a file-like object (stream); defaults to the current sys.stdout.\n",
      "    sep:   string inserted between values, default a space.\n",
      "    end:   string appended after the last value, default a newline.\n",
      "    flush: whether to forcibly flush the stream.\n",
      "\n"
     ]
    }
   ],
   "source": [
    "# run help on prove_it\n",
    "help(prove_it)\n"
   ]
  },
  {
   "cell_type": "code",
   "execution_count": 7,
   "metadata": {
    "ExecuteTime": {
     "end_time": "2021-04-27T15:01:01.979311Z",
     "start_time": "2021-04-27T15:01:01.975128Z"
    },
    "colab": {
     "base_uri": "https://localhost:8080/",
     "height": 35
    },
    "id": "mOiB7HD3PpyM",
    "outputId": "af49836f-ebe9-4a5d-f161-31215da18d07"
   },
   "outputs": [
    {
     "data": {
      "text/plain": [
       "'print'"
      ]
     },
     "execution_count": 7,
     "metadata": {},
     "output_type": "execute_result"
    }
   ],
   "source": [
    "## what is the __name__ of our function?\n",
    "prove_it.__name__"
   ]
  },
  {
   "cell_type": "code",
   "execution_count": 8,
   "metadata": {},
   "outputs": [
    {
     "name": "stdout",
     "output_type": "stream",
     "text": [
      "Help on int object:\n",
      "\n",
      "class int(object)\n",
      " |  int([x]) -> integer\n",
      " |  int(x, base=10) -> integer\n",
      " |  \n",
      " |  Convert a number or string to an integer, or return 0 if no arguments\n",
      " |  are given.  If x is a number, return x.__int__().  For floating point\n",
      " |  numbers, this truncates towards zero.\n",
      " |  \n",
      " |  If x is not a number or if base is given, then x must be a string,\n",
      " |  bytes, or bytearray instance representing an integer literal in the\n",
      " |  given base.  The literal can be preceded by '+' or '-' and be surrounded\n",
      " |  by whitespace.  The base defaults to 10.  Valid bases are 0 and 2-36.\n",
      " |  Base 0 means to interpret the base from the string as an integer literal.\n",
      " |  >>> int('0b100', base=0)\n",
      " |  4\n",
      " |  \n",
      " |  Built-in subclasses:\n",
      " |      bool\n",
      " |  \n",
      " |  Methods defined here:\n",
      " |  \n",
      " |  __abs__(self, /)\n",
      " |      abs(self)\n",
      " |  \n",
      " |  __add__(self, value, /)\n",
      " |      Return self+value.\n",
      " |  \n",
      " |  __and__(self, value, /)\n",
      " |      Return self&value.\n",
      " |  \n",
      " |  __bool__(self, /)\n",
      " |      self != 0\n",
      " |  \n",
      " |  __ceil__(...)\n",
      " |      Ceiling of an Integral returns itself.\n",
      " |  \n",
      " |  __divmod__(self, value, /)\n",
      " |      Return divmod(self, value).\n",
      " |  \n",
      " |  __eq__(self, value, /)\n",
      " |      Return self==value.\n",
      " |  \n",
      " |  __float__(self, /)\n",
      " |      float(self)\n",
      " |  \n",
      " |  __floor__(...)\n",
      " |      Flooring an Integral returns itself.\n",
      " |  \n",
      " |  __floordiv__(self, value, /)\n",
      " |      Return self//value.\n",
      " |  \n",
      " |  __format__(self, format_spec, /)\n",
      " |      Default object formatter.\n",
      " |  \n",
      " |  __ge__(self, value, /)\n",
      " |      Return self>=value.\n",
      " |  \n",
      " |  __getattribute__(self, name, /)\n",
      " |      Return getattr(self, name).\n",
      " |  \n",
      " |  __getnewargs__(self, /)\n",
      " |  \n",
      " |  __gt__(self, value, /)\n",
      " |      Return self>value.\n",
      " |  \n",
      " |  __hash__(self, /)\n",
      " |      Return hash(self).\n",
      " |  \n",
      " |  __index__(self, /)\n",
      " |      Return self converted to an integer, if self is suitable for use as an index into a list.\n",
      " |  \n",
      " |  __int__(self, /)\n",
      " |      int(self)\n",
      " |  \n",
      " |  __invert__(self, /)\n",
      " |      ~self\n",
      " |  \n",
      " |  __le__(self, value, /)\n",
      " |      Return self<=value.\n",
      " |  \n",
      " |  __lshift__(self, value, /)\n",
      " |      Return self<<value.\n",
      " |  \n",
      " |  __lt__(self, value, /)\n",
      " |      Return self<value.\n",
      " |  \n",
      " |  __mod__(self, value, /)\n",
      " |      Return self%value.\n",
      " |  \n",
      " |  __mul__(self, value, /)\n",
      " |      Return self*value.\n",
      " |  \n",
      " |  __ne__(self, value, /)\n",
      " |      Return self!=value.\n",
      " |  \n",
      " |  __neg__(self, /)\n",
      " |      -self\n",
      " |  \n",
      " |  __or__(self, value, /)\n",
      " |      Return self|value.\n",
      " |  \n",
      " |  __pos__(self, /)\n",
      " |      +self\n",
      " |  \n",
      " |  __pow__(self, value, mod=None, /)\n",
      " |      Return pow(self, value, mod).\n",
      " |  \n",
      " |  __radd__(self, value, /)\n",
      " |      Return value+self.\n",
      " |  \n",
      " |  __rand__(self, value, /)\n",
      " |      Return value&self.\n",
      " |  \n",
      " |  __rdivmod__(self, value, /)\n",
      " |      Return divmod(value, self).\n",
      " |  \n",
      " |  __repr__(self, /)\n",
      " |      Return repr(self).\n",
      " |  \n",
      " |  __rfloordiv__(self, value, /)\n",
      " |      Return value//self.\n",
      " |  \n",
      " |  __rlshift__(self, value, /)\n",
      " |      Return value<<self.\n",
      " |  \n",
      " |  __rmod__(self, value, /)\n",
      " |      Return value%self.\n",
      " |  \n",
      " |  __rmul__(self, value, /)\n",
      " |      Return value*self.\n",
      " |  \n",
      " |  __ror__(self, value, /)\n",
      " |      Return value|self.\n",
      " |  \n",
      " |  __round__(...)\n",
      " |      Rounding an Integral returns itself.\n",
      " |      Rounding with an ndigits argument also returns an integer.\n",
      " |  \n",
      " |  __rpow__(self, value, mod=None, /)\n",
      " |      Return pow(value, self, mod).\n",
      " |  \n",
      " |  __rrshift__(self, value, /)\n",
      " |      Return value>>self.\n",
      " |  \n",
      " |  __rshift__(self, value, /)\n",
      " |      Return self>>value.\n",
      " |  \n",
      " |  __rsub__(self, value, /)\n",
      " |      Return value-self.\n",
      " |  \n",
      " |  __rtruediv__(self, value, /)\n",
      " |      Return value/self.\n",
      " |  \n",
      " |  __rxor__(self, value, /)\n",
      " |      Return value^self.\n",
      " |  \n",
      " |  __sizeof__(self, /)\n",
      " |      Returns size in memory, in bytes.\n",
      " |  \n",
      " |  __sub__(self, value, /)\n",
      " |      Return self-value.\n",
      " |  \n",
      " |  __truediv__(self, value, /)\n",
      " |      Return self/value.\n",
      " |  \n",
      " |  __trunc__(...)\n",
      " |      Truncating an Integral returns itself.\n",
      " |  \n",
      " |  __xor__(self, value, /)\n",
      " |      Return self^value.\n",
      " |  \n",
      " |  as_integer_ratio(self, /)\n",
      " |      Return integer ratio.\n",
      " |      \n",
      " |      Return a pair of integers, whose ratio is exactly equal to the original int\n",
      " |      and with a positive denominator.\n",
      " |      \n",
      " |      >>> (10).as_integer_ratio()\n",
      " |      (10, 1)\n",
      " |      >>> (-10).as_integer_ratio()\n",
      " |      (-10, 1)\n",
      " |      >>> (0).as_integer_ratio()\n",
      " |      (0, 1)\n",
      " |  \n",
      " |  bit_length(self, /)\n",
      " |      Number of bits necessary to represent self in binary.\n",
      " |      \n",
      " |      >>> bin(37)\n",
      " |      '0b100101'\n",
      " |      >>> (37).bit_length()\n",
      " |      6\n",
      " |  \n",
      " |  conjugate(...)\n",
      " |      Returns self, the complex conjugate of any int.\n",
      " |  \n",
      " |  to_bytes(self, /, length, byteorder, *, signed=False)\n",
      " |      Return an array of bytes representing an integer.\n",
      " |      \n",
      " |      length\n",
      " |        Length of bytes object to use.  An OverflowError is raised if the\n",
      " |        integer is not representable with the given number of bytes.\n",
      " |      byteorder\n",
      " |        The byte order used to represent the integer.  If byteorder is 'big',\n",
      " |        the most significant byte is at the beginning of the byte array.  If\n",
      " |        byteorder is 'little', the most significant byte is at the end of the\n",
      " |        byte array.  To request the native byte order of the host system, use\n",
      " |        `sys.byteorder' as the byte order value.\n",
      " |      signed\n",
      " |        Determines whether two's complement is used to represent the integer.\n",
      " |        If signed is False and a negative integer is given, an OverflowError\n",
      " |        is raised.\n",
      " |  \n",
      " |  ----------------------------------------------------------------------\n",
      " |  Class methods defined here:\n",
      " |  \n",
      " |  from_bytes(bytes, byteorder, *, signed=False) from builtins.type\n",
      " |      Return the integer represented by the given array of bytes.\n",
      " |      \n",
      " |      bytes\n",
      " |        Holds the array of bytes to convert.  The argument must either\n",
      " |        support the buffer protocol or be an iterable object producing bytes.\n",
      " |        Bytes and bytearray are examples of built-in objects that support the\n",
      " |        buffer protocol.\n",
      " |      byteorder\n",
      " |        The byte order used to represent the integer.  If byteorder is 'big',\n",
      " |        the most significant byte is at the beginning of the byte array.  If\n",
      " |        byteorder is 'little', the most significant byte is at the end of the\n",
      " |        byte array.  To request the native byte order of the host system, use\n",
      " |        `sys.byteorder' as the byte order value.\n",
      " |      signed\n",
      " |        Indicates whether two's complement is used to represent the integer.\n",
      " |  \n",
      " |  ----------------------------------------------------------------------\n",
      " |  Static methods defined here:\n",
      " |  \n",
      " |  __new__(*args, **kwargs) from builtins.type\n",
      " |      Create and return a new object.  See help(type) for accurate signature.\n",
      " |  \n",
      " |  ----------------------------------------------------------------------\n",
      " |  Data descriptors defined here:\n",
      " |  \n",
      " |  denominator\n",
      " |      the denominator of a rational number in lowest terms\n",
      " |  \n",
      " |  imag\n",
      " |      the imaginary part of a complex number\n",
      " |  \n",
      " |  numerator\n",
      " |      the numerator of a rational number in lowest terms\n",
      " |  \n",
      " |  real\n",
      " |      the real part of a complex number\n",
      "\n"
     ]
    }
   ],
   "source": [
    "help(4)"
   ]
  },
  {
   "cell_type": "markdown",
   "metadata": {
    "id": "TGx9MFCFPpyM"
   },
   "source": [
    "# Reviewing Functions"
   ]
  },
  {
   "cell_type": "markdown",
   "metadata": {
    "ExecuteTime": {
     "end_time": "2020-03-04T22:50:13.264632Z",
     "start_time": "2020-03-04T22:50:13.257093Z"
    },
    "id": "YVHOV5TXPpyN"
   },
   "source": [
    "#### VOCAB RELATED TO FUNCTIONS:\n",
    "\n",
    "- **Function: A resuable, fleixbile block of code that runs a process**  \n",
    "\n",
    "    - Parameters: inputs that are expected by python/that function\n",
    "    \n",
    "    - Argument: the actual value/variable passed into the function. \n",
    "        - Positional Argument:\n",
    "        - Keyword/default Arguments:\n",
    "\n",
    "- \"Calling\" a function: `( )`"
   ]
  },
  {
   "cell_type": "code",
   "execution_count": 9,
   "metadata": {},
   "outputs": [],
   "source": [
    "# del prove_it"
   ]
  },
  {
   "cell_type": "code",
   "execution_count": 10,
   "metadata": {
    "ExecuteTime": {
     "end_time": "2021-04-27T15:01:01.985191Z",
     "start_time": "2021-04-27T15:01:01.982055Z"
    },
    "id": "sWDkXoLtPpyN"
   },
   "outputs": [],
   "source": [
    "def my_func(posarg1, \n",
    "            posarg2, kwarg1='example',kwarg2='example2'):\n",
    "    print('positional arguments:')\n",
    "    print(f\"    {posarg1}, {posarg2}\")\n",
    "    \n",
    "    print(\"keyword arguments:\")\n",
    "    print(f\"    kwarg1={kwarg1}\")\n",
    "    print(f\"    kwarg2={kwarg2}\")"
   ]
  },
  {
   "cell_type": "code",
   "execution_count": 11,
   "metadata": {
    "ExecuteTime": {
     "end_time": "2021-04-27T15:01:01.992219Z",
     "start_time": "2021-04-27T15:01:01.988245Z"
    },
    "colab": {
     "base_uri": "https://localhost:8080/"
    },
    "id": "_tCv8OdmPpyN",
    "outputId": "5a2e068c-63e8-45c0-d1ed-7bcd9e24d392"
   },
   "outputs": [
    {
     "data": {
      "text/plain": [
       "<function __main__.my_func(posarg1, posarg2, kwarg1='example', kwarg2='example2')>"
      ]
     },
     "execution_count": 11,
     "metadata": {},
     "output_type": "execute_result"
    }
   ],
   "source": [
    "## What does my_func look like?\n",
    "my_func"
   ]
  },
  {
   "cell_type": "code",
   "execution_count": 12,
   "metadata": {
    "ExecuteTime": {
     "end_time": "2021-04-27T15:01:01.998825Z",
     "start_time": "2021-04-27T15:01:01.995679Z"
    },
    "colab": {
     "base_uri": "https://localhost:8080/"
    },
    "id": "Hgntu_pnPpyO",
    "outputId": "1730409e-3d21-4444-998e-f6eb9f183443"
   },
   "outputs": [
    {
     "name": "stdout",
     "output_type": "stream",
     "text": [
      "positional arguments:\n",
      "    1, 2\n",
      "keyword arguments:\n",
      "    kwarg1=example\n",
      "    kwarg2=example2\n"
     ]
    }
   ],
   "source": [
    "## Run my_func with posarg1=1,posarg2=2\n",
    "my_func(1,2)"
   ]
  },
  {
   "cell_type": "code",
   "execution_count": 13,
   "metadata": {
    "ExecuteTime": {
     "end_time": "2021-04-27T15:01:02.004266Z",
     "start_time": "2021-04-27T15:01:02.000751Z"
    },
    "colab": {
     "base_uri": "https://localhost:8080/"
    },
    "id": "yKojdLTiPpyO",
    "outputId": "097ad8af-675e-4b4e-bd14-2b050773db0e"
   },
   "outputs": [
    {
     "name": "stdout",
     "output_type": "stream",
     "text": [
      "positional arguments:\n",
      "    1, 2\n",
      "keyword arguments:\n",
      "    kwarg1=something else\n",
      "    kwarg2=example2\n"
     ]
    }
   ],
   "source": [
    "## Change kwarg1 to something else\n",
    "my_func(1,2,kwarg1='something else')"
   ]
  },
  {
   "cell_type": "markdown",
   "metadata": {
    "id": "0mjvmWDhPpyO"
   },
   "source": [
    "# Defining and Initializing Classes\n"
   ]
  },
  {
   "cell_type": "markdown",
   "metadata": {
    "id": "3-J9nHv4PpyO"
   },
   "source": [
    "- Use `class NewClassName():` like you use `def function_name():` for functions.\n",
    "    - the `()` are optional for classes. (used to inherit other classes, more on that later)"
   ]
  },
  {
   "cell_type": "markdown",
   "metadata": {
    "id": "blEJFW7BPpyP"
   },
   "source": [
    "#### Naming Classes\n",
    "    \n",
    "- Convention for naming classes = `UpperCamelCase`\n",
    "- Convention for naming function = `snake_case`"
   ]
  },
  {
   "cell_type": "code",
   "execution_count": 14,
   "metadata": {
    "ExecuteTime": {
     "end_time": "2021-04-27T15:01:02.009897Z",
     "start_time": "2021-04-27T15:01:02.007177Z"
    },
    "id": "msp5lZ2uPpyP"
   },
   "outputs": [],
   "source": [
    "## Bare minimum to define a class.\n",
    "class PlayingCard:\n",
    "    pass"
   ]
  },
  {
   "cell_type": "code",
   "execution_count": 15,
   "metadata": {},
   "outputs": [
    {
     "data": {
      "text/plain": [
       "__main__.PlayingCard"
      ]
     },
     "execution_count": 15,
     "metadata": {},
     "output_type": "execute_result"
    }
   ],
   "source": [
    "PlayingCard"
   ]
  },
  {
   "cell_type": "markdown",
   "metadata": {
    "id": "HW-QL6W1PpyP"
   },
   "source": [
    "## Attributes and Methods"
   ]
  },
  {
   "cell_type": "markdown",
   "metadata": {
    "id": "u4oLS1MDPpyP"
   },
   "source": [
    "- Attribute: a variable is stored inside a class/object\n",
    "\n",
    "- Method: a function that is stored inside of and (usually) operates on the object/class"
   ]
  },
  {
   "cell_type": "markdown",
   "metadata": {
    "id": "teIl9SquPpyP"
   },
   "source": [
    "## What makes a PlayingCard?"
   ]
  },
  {
   "cell_type": "markdown",
   "metadata": {
    "id": "WB7-qsnlPpyP"
   },
   "source": [
    "***Card:***\n",
    "- *Value / Name*:\n",
    "    - 2, 3, 4, 5, 6, 7, 8, 9, 10, J, Q, K, A\n",
    "- *Suit*:\n",
    "    - Hearts (H), Spades(S), Clubs(C), Diamonds(D) \n",
    "- *Color*:\n",
    "    - black or red"
   ]
  },
  {
   "cell_type": "code",
   "execution_count": 16,
   "metadata": {
    "ExecuteTime": {
     "end_time": "2021-04-27T15:01:02.015884Z",
     "start_time": "2021-04-27T15:01:02.012877Z"
    },
    "id": "bZHUwk2-PpyP"
   },
   "outputs": [
    {
     "data": {
      "text/plain": [
       "__main__.PlayingCard"
      ]
     },
     "execution_count": 16,
     "metadata": {},
     "output_type": "execute_result"
    }
   ],
   "source": [
    "## Make a new PlayingCard class with a value of 2 and a suit of spades, and color=black\n",
    "class PlayingCard:\n",
    "    value = 2\n",
    "    suit = \"S\"\n",
    "    color=\"black\"\n",
    "\n",
    "PlayingCard"
   ]
  },
  {
   "cell_type": "code",
   "execution_count": 17,
   "metadata": {
    "ExecuteTime": {
     "end_time": "2021-04-27T15:01:02.021630Z",
     "start_time": "2021-04-27T15:01:02.018078Z"
    },
    "colab": {
     "base_uri": "https://localhost:8080/"
    },
    "id": "4ubf7hVVPpyP",
    "outputId": "3a339b74-4166-4e27-9900-f4474d9a2eb9"
   },
   "outputs": [
    {
     "data": {
      "text/plain": [
       "<__main__.PlayingCard at 0x123fb9cd0>"
      ]
     },
     "execution_count": 17,
     "metadata": {},
     "output_type": "execute_result"
    }
   ],
   "source": [
    "## Make an instance of a PlayingCard and display it\n",
    "card1 = PlayingCard()\n",
    "card1"
   ]
  },
  {
   "cell_type": "code",
   "execution_count": 18,
   "metadata": {},
   "outputs": [],
   "source": [
    "# id(card1)"
   ]
  },
  {
   "cell_type": "code",
   "execution_count": 19,
   "metadata": {
    "ExecuteTime": {
     "end_time": "2021-04-27T15:01:02.028487Z",
     "start_time": "2021-04-27T15:01:02.025248Z"
    },
    "colab": {
     "base_uri": "https://localhost:8080/"
    },
    "id": "-gaS--BHPpyP",
    "outputId": "4dfb7301-cdc5-403c-bd1a-819b2a4c23f3"
   },
   "outputs": [
    {
     "name": "stdout",
     "output_type": "stream",
     "text": [
      "2 of S\n"
     ]
    }
   ],
   "source": [
    "## Print out the vard's value and suit in one statement\n",
    "print(f\"{card1.value} of {card1.suit}\")"
   ]
  },
  {
   "cell_type": "markdown",
   "metadata": {
    "id": "s7CM4BHOPpyQ"
   },
   "source": [
    "> Improving our class: let's add a `.flip()` method that will print the value and suit. \n"
   ]
  },
  {
   "cell_type": "code",
   "execution_count": 20,
   "metadata": {
    "ExecuteTime": {
     "end_time": "2021-04-27T15:01:02.033976Z",
     "start_time": "2021-04-27T15:01:02.031223Z"
    },
    "id": "78alXCTrPpyQ"
   },
   "outputs": [],
   "source": [
    "## Copy previous version of class and add the .flip method.\n",
    "class PlayingCard:\n",
    "    value = 2\n",
    "    suit = \"S\"\n",
    "    color=\"black\"\n",
    "    \n",
    "    def flip():\n",
    "        print(f\"{value} of {suit}\")"
   ]
  },
  {
   "cell_type": "code",
   "execution_count": 21,
   "metadata": {
    "ExecuteTime": {
     "end_time": "2021-04-27T15:01:02.144233Z",
     "start_time": "2021-04-27T15:01:02.036057Z"
    },
    "colab": {
     "base_uri": "https://localhost:8080/",
     "height": 201
    },
    "id": "YYCZhdp7PpyQ",
    "outputId": "68606697-bf35-4529-fe74-3186dc55d163"
   },
   "outputs": [
    {
     "ename": "TypeError",
     "evalue": "flip() takes 0 positional arguments but 1 was given",
     "output_type": "error",
     "traceback": [
      "\u001b[0;31m---------------------------------------------------------------------------\u001b[0m",
      "\u001b[0;31mTypeError\u001b[0m                                 Traceback (most recent call last)",
      "Input \u001b[0;32mIn [21]\u001b[0m, in \u001b[0;36m<cell line: 3>\u001b[0;34m()\u001b[0m\n\u001b[1;32m      1\u001b[0m \u001b[38;5;66;03m## Insantiate a playing card and run .flip()    \u001b[39;00m\n\u001b[1;32m      2\u001b[0m card \u001b[38;5;241m=\u001b[39m PlayingCard()\n\u001b[0;32m----> 3\u001b[0m \u001b[43mcard\u001b[49m\u001b[38;5;241;43m.\u001b[39;49m\u001b[43mflip\u001b[49m\u001b[43m(\u001b[49m\u001b[43m)\u001b[49m\n",
      "\u001b[0;31mTypeError\u001b[0m: flip() takes 0 positional arguments but 1 was given"
     ]
    }
   ],
   "source": [
    "## Insantiate a playing card and run .flip()    \n",
    "card = PlayingCard()\n",
    "card.flip()"
   ]
  },
  {
   "cell_type": "markdown",
   "metadata": {
    "id": "GBl0CNDEPpyQ"
   },
   "source": [
    "> Ruh roh! What happened?! What does the error message mean?"
   ]
  },
  {
   "cell_type": "markdown",
   "metadata": {
    "id": "yasIP4HdPpyQ"
   },
   "source": [
    "### Know thy `self`"
   ]
  },
  {
   "cell_type": "markdown",
   "metadata": {
    "id": "ifLOPQviPpyQ"
   },
   "source": [
    "- Because Methods are designed to operate on the `object_its.attached_to()`, Python automatically gives every method a copy of instance its attached to, which we call `self`\n",
    "- We have to pass `self` as the first parameter for every method we make.\n",
    "- Otherwise it will think that the first thing we give it is actually itself. This will cause an *existential crisis** and corresponding error."
   ]
  },
  {
   "cell_type": "code",
   "execution_count": null,
   "metadata": {
    "ExecuteTime": {
     "end_time": "2021-04-27T15:01:31.218684Z",
     "start_time": "2021-04-27T15:01:31.215643Z"
    },
    "id": "x5-relkMPpyQ"
   },
   "outputs": [],
   "source": [
    "## Update our class by adding self where its needed.\n",
    "\n",
    "class PlayingCard:\n",
    "    value = 2\n",
    "    suit = \"S\"\n",
    "    color=\"black\"\n",
    "    \n",
    "    def flip(self):\n",
    "        print(f\"{self.value} of {self.suit}\")"
   ]
  },
  {
   "cell_type": "code",
   "execution_count": null,
   "metadata": {
    "ExecuteTime": {
     "end_time": "2021-04-27T15:01:31.223419Z",
     "start_time": "2021-04-27T15:01:31.220812Z"
    },
    "colab": {
     "base_uri": "https://localhost:8080/"
    },
    "id": "0jeEZCtQPpyQ",
    "outputId": "c7bc5083-0fd4-4137-8ee9-e93fd4e52ecd"
   },
   "outputs": [],
   "source": [
    "## Insantiate a playing card and run .flip()    \n",
    "card = PlayingCard()\n",
    "card.flip()"
   ]
  },
  {
   "cell_type": "markdown",
   "metadata": {
    "id": "PE5_vLdDPpyQ"
   },
   "source": [
    "## Initialization \n"
   ]
  },
  {
   "cell_type": "markdown",
   "metadata": {
    "id": "6Xg7SN5xPpyQ"
   },
   "source": [
    "- As we have seen, we create an instance by setting a `instance = ClassName()`\n",
    "-  This uses the template `ClassName` to create an instance of the class ( which we named `instance`).\n",
    "> - How do we change our PlayingCard class so that we can make other cards besides the 2 of spades?"
   ]
  },
  {
   "cell_type": "markdown",
   "metadata": {
    "id": "LXaUxSsSPpyQ"
   },
   "source": [
    "### `__init__`"
   ]
  },
  {
   "cell_type": "markdown",
   "metadata": {
    "id": "vbsNuDh8PpyQ"
   },
   "source": [
    "> - When an instance is `initialized`, we `call` it using `()`, which runs a default `__init__()` method."
   ]
  },
  {
   "cell_type": "code",
   "execution_count": null,
   "metadata": {
    "ExecuteTime": {
     "end_time": "2021-04-27T15:01:34.490863Z",
     "start_time": "2021-04-27T15:01:34.487488Z"
    },
    "id": "-9xjzMtOPpyQ"
   },
   "outputs": [],
   "source": [
    "## Update our class by adding an __init__ that controls value, suit, color\n",
    "\n",
    "        \n",
    "class PlayingCard:\n",
    "\n",
    "    \n",
    "    def __init__(self,value,suit):\n",
    "        self.value = value\n",
    "        self.suit = suit\n",
    "        self.color = 'black' if suit in ('S', 'C') else 'red'\n",
    "\n",
    "    \n",
    "    def flip(self):\n",
    "        print(f\"{self.value} of {self.suit}\")"
   ]
  },
  {
   "cell_type": "code",
   "execution_count": null,
   "metadata": {
    "ExecuteTime": {
     "end_time": "2021-04-27T15:01:35.498574Z",
     "start_time": "2021-04-27T15:01:35.495978Z"
    },
    "colab": {
     "base_uri": "https://localhost:8080/"
    },
    "id": "ThIY8pgMPpyR",
    "outputId": "acbd0b63-75e4-4f8c-aa69-469a50c02157"
   },
   "outputs": [],
   "source": [
    "## test out our updated playing card class by making  card1 = a 'J of Hearts'\n",
    "card1 = PlayingCard(\"J\",'H')\n",
    "card1.flip()"
   ]
  },
  {
   "cell_type": "code",
   "execution_count": null,
   "metadata": {},
   "outputs": [],
   "source": [
    "card1.value"
   ]
  },
  {
   "cell_type": "code",
   "execution_count": null,
   "metadata": {
    "ExecuteTime": {
     "end_time": "2021-04-27T15:01:36.571461Z",
     "start_time": "2021-04-27T15:01:36.568889Z"
    },
    "colab": {
     "base_uri": "https://localhost:8080/"
    },
    "id": "Qdk7zVFjPpyR",
    "outputId": "c326fbcc-1255-4f2e-f29a-c210c1c0b0e4"
   },
   "outputs": [],
   "source": [
    "## test out our updated playing card class by making a 7 of Spades\n",
    "card2 = PlayingCard(7,'S')\n",
    "card2.flip()"
   ]
  },
  {
   "cell_type": "markdown",
   "metadata": {
    "id": "defpb4HIPpyR"
   },
   "source": [
    "### is card 1 greater than card 2?"
   ]
  },
  {
   "cell_type": "code",
   "execution_count": null,
   "metadata": {
    "ExecuteTime": {
     "end_time": "2021-04-27T15:01:38.143611Z",
     "start_time": "2021-04-27T15:01:37.725482Z"
    },
    "colab": {
     "base_uri": "https://localhost:8080/",
     "height": 165
    },
    "id": "LecTBdzwPpyR",
    "outputId": "ab8ad217-1b32-40d1-ad39-957f6bd693d3"
   },
   "outputs": [],
   "source": [
    "card1 > card2"
   ]
  },
  {
   "cell_type": "markdown",
   "metadata": {
    "id": "BMTNqC8UPpyR"
   },
   "source": [
    "# Special Class Methods"
   ]
  },
  {
   "cell_type": "markdown",
   "metadata": {
    "id": "_afsxkE5PpyR"
   },
   "source": [
    "#### Special Methods\n",
    "\n",
    "It is common for a class to have magic methods. These are identifiable by the \"dunder\" (i.e. **d**ouble **under**score) prefixes and suffixes, such as `__init__()`. These methods will get called **automatically**, as we'll see below.\n",
    "\n",
    "For more on these \"magic methods\", see [here](https://www.geeksforgeeks.org/dunder-magic-methods-python/)."
   ]
  },
  {
   "cell_type": "markdown",
   "metadata": {
    "id": "K2VYc2BgPpyR"
   },
   "source": [
    "## Using Special Methods to evaluate comparisons "
   ]
  },
  {
   "cell_type": "markdown",
   "metadata": {
    "id": "5hcFxBfVPpyR"
   },
   "source": [
    "### `__gt__` & `__lt__`:\n"
   ]
  },
  {
   "cell_type": "code",
   "execution_count": null,
   "metadata": {
    "ExecuteTime": {
     "end_time": "2021-04-27T15:01:40.278234Z",
     "start_time": "2021-04-27T15:01:40.274280Z"
    },
    "id": "TQp5i1yePpyR"
   },
   "outputs": [],
   "source": [
    "## Add a __gt__ and __lt__ method to compare self to other\n",
    "        \n",
    "class PlayingCard:\n",
    "\n",
    "    \n",
    "    def __init__(self,value,suit):\n",
    "        \"\"\"Creates a playing card instance with the specified value and suit\n",
    "        Value should be 2-10, or J,Q,K,A\n",
    "        Suit should be 'H','D','C','S'\n",
    "        \"\"\"\n",
    "        self.value = value\n",
    "        self.suit = suit\n",
    "        self.color = 'black' if suit in ('S', 'C') else 'red'\n",
    "\n",
    "    \n",
    "    def flip(self):\n",
    "        print(f\"{self.value} of {self.suit}\")\n",
    "        \n",
    "    def __gt__(self, other):\n",
    "        return self.value > other.value\n",
    "    \n",
    "    def __lt__(self, other):\n",
    "        return self.value < other.value\n"
   ]
  },
  {
   "cell_type": "code",
   "execution_count": null,
   "metadata": {
    "ExecuteTime": {
     "end_time": "2021-04-27T15:01:40.960843Z",
     "start_time": "2021-04-27T15:01:40.942059Z"
    },
    "colab": {
     "base_uri": "https://localhost:8080/",
     "height": 356
    },
    "id": "aAMU-3q_PpyR",
    "outputId": "2a54c8d9-98c0-48fa-ece4-3b2667f7fdbf"
   },
   "outputs": [],
   "source": [
    "## test out our updated playing card class by making  card1 = a 'J of Hearts'\n",
    "card1 = PlayingCard(\"J\",'H')\n",
    "card1.flip()\n",
    "\n",
    "## test out our updated playing card class by making a 7 of Spades\n",
    "card2 = PlayingCard(7,'S')\n",
    "card2.flip()\n",
    "\n",
    "card1>card2"
   ]
  },
  {
   "cell_type": "markdown",
   "metadata": {
    "id": "YQ43ZQ9FPpyR"
   },
   "source": [
    "> - Ruh Roh! We can't compare a str and an int! Let's fix this with out `__init__ `\n",
    "\n"
   ]
  },
  {
   "cell_type": "markdown",
   "metadata": {
    "id": "CppcaGDZPpyR"
   },
   "source": [
    "#### Adding our card's value"
   ]
  },
  {
   "cell_type": "markdown",
   "metadata": {
    "id": "IAg1yiBjPpyR"
   },
   "source": [
    "- Create a string-based `name` for the card\n",
    "    - Update `.flip()` to use `name` instead of `value`\n",
    "- Save the numeric `value` of the card for comparison\n",
    "- "
   ]
  },
  {
   "cell_type": "code",
   "execution_count": null,
   "metadata": {
    "ExecuteTime": {
     "end_time": "2021-04-27T15:01:45.039095Z",
     "start_time": "2021-04-27T15:01:45.034578Z"
    },
    "colab": {
     "base_uri": "https://localhost:8080/"
    },
    "id": "nf2up9jtPpyR",
    "outputId": "2a8df532-8751-47a1-92af-0e63f2a83fe6"
   },
   "outputs": [],
   "source": [
    "## Value dictionary for lookup \n",
    "value_dct = {\n",
    "    '2': 2,'3': 3, '4': 4, '5': 5, '6': 6,\n",
    "    '7': 7, '8': 8, '9': 9, '10': 10,\n",
    "    'J': 11,'Q': 12, 'K': 13, 'A': 14\n",
    "    }\n",
    "value_dct"
   ]
  },
  {
   "cell_type": "code",
   "execution_count": null,
   "metadata": {
    "ExecuteTime": {
     "end_time": "2021-04-27T15:01:45.776196Z",
     "start_time": "2021-04-27T15:01:45.771336Z"
    },
    "id": "L5UXhpCnPpyR"
   },
   "outputs": [],
   "source": [
    "## Create a string-based name for the card\n",
    "# save the numeric value of the card for comparison\n",
    "class PlayingCard:\n",
    "\n",
    "    \n",
    "    def __init__(self,value,suit):\n",
    "        \"\"\"Creates a playing card instance with the specified value and suit\n",
    "        Value should be 2-10, or J,Q,K,A\n",
    "        Suit should be 'H','D','C','S'\n",
    "        \"\"\"\n",
    "        self.value = value\n",
    "\n",
    "        value = str(value)\n",
    "        value_dct = {\n",
    "            '2': 2,'3': 3, '4': 4, '5': 5, '6': 6,\n",
    "            '7': 7, '8': 8, '9': 9, '10': 10,\n",
    "            'J': 11,'Q': 12, 'K': 13, 'A': 14\n",
    "            }\n",
    "        \n",
    "        self._value = value_dct[value]\n",
    "        self.suit = suit\n",
    "        self.color = 'black' if suit in ('S', 'C') else 'red'\n",
    "\n",
    "    \n",
    "    def flip(self):\n",
    "        print(f\"{self.value} of {self.suit}\")\n",
    "        \n",
    "    def __gt__(self, other):\n",
    "        return self._value > other._value\n",
    "    \n",
    "    def __lt__(self, other):\n",
    "        return self._value < other._value"
   ]
  },
  {
   "cell_type": "code",
   "execution_count": null,
   "metadata": {
    "ExecuteTime": {
     "end_time": "2021-04-27T15:01:46.707298Z",
     "start_time": "2021-04-27T15:01:46.703231Z"
    },
    "colab": {
     "base_uri": "https://localhost:8080/"
    },
    "id": "y2rzl12KPpyS",
    "outputId": "c9504034-72a6-437f-8476-914eb9a69c12"
   },
   "outputs": [],
   "source": [
    "## Run this cell to test our value comparison from before\n",
    "card1 = PlayingCard('J','H')\n",
    "card1.flip()\n",
    "\n",
    "card2 = PlayingCard(7,'S')\n",
    "card2.flip()\n",
    "\n",
    "card1>card2"
   ]
  },
  {
   "cell_type": "code",
   "execution_count": null,
   "metadata": {
    "ExecuteTime": {
     "end_time": "2021-04-27T15:01:47.926058Z",
     "start_time": "2021-04-27T15:01:47.923201Z"
    },
    "colab": {
     "base_uri": "https://localhost:8080/"
    },
    "id": "RN9KZAthPpyS",
    "outputId": "7a2b4892-97d3-44ae-8f4f-b550bb647e28"
   },
   "outputs": [],
   "source": [
    "## What about card1<card2?\n",
    "card1<card2"
   ]
  },
  {
   "cell_type": "code",
   "execution_count": null,
   "metadata": {},
   "outputs": [],
   "source": [
    "card1.value"
   ]
  },
  {
   "cell_type": "code",
   "execution_count": null,
   "metadata": {},
   "outputs": [],
   "source": [
    "card1._value"
   ]
  },
  {
   "cell_type": "markdown",
   "metadata": {
    "id": "Q5DB-3zOPpyS"
   },
   "source": [
    "> Success! This is great and all, but the PlayingCard isn't terribly fun-looking "
   ]
  },
  {
   "cell_type": "code",
   "execution_count": null,
   "metadata": {
    "ExecuteTime": {
     "end_time": "2021-04-27T15:01:51.243766Z",
     "start_time": "2021-04-27T15:01:51.241003Z"
    },
    "colab": {
     "base_uri": "https://localhost:8080/"
    },
    "id": "lMB_ROUkPpyS",
    "outputId": "dd070433-e0ae-4ba0-a5a0-28bd8d6d7512"
   },
   "outputs": [],
   "source": [
    "## Display card1\n",
    "display(card1)\n",
    "card1"
   ]
  },
  {
   "cell_type": "markdown",
   "metadata": {
    "id": "63ZvDtqoPpyS"
   },
   "source": [
    "## Using special methods to control the output of a class"
   ]
  },
  {
   "cell_type": "code",
   "execution_count": null,
   "metadata": {
    "ExecuteTime": {
     "end_time": "2021-04-27T15:01:58.131772Z",
     "start_time": "2021-04-27T15:01:58.127644Z"
    },
    "colab": {
     "base_uri": "https://localhost:8080/",
     "height": 52
    },
    "id": "n_cHonboPpyS",
    "outputId": "14da6489-d078-4117-d464-784b905c7037"
   },
   "outputs": [],
   "source": [
    "## Display card 1\n"
   ]
  },
  {
   "cell_type": "markdown",
   "metadata": {
    "id": "rTDVjLb4PpyS"
   },
   "source": [
    "### `__repr__()`  &  `__str__()`\n",
    "\n",
    "- Whenever an object is displayed, it runs the object's  `__repr__()` method. \n",
    "- Whenever an object is printed, it runs the  `__str__()` method.\n",
    "\n",
    "- They are both designed to return string-representations of the object. \n",
    "    - But `__repr__()` focuses on minimizing ambiguity while `__str__()` focuses on readability. \n",
    "- However, if your class has no `__str__()` method, it will fall back on `__repr__()` (if it exists!). \n",
    "    - For more on this distinction, see [this post](https://dbader.org/blog/python-repr-vs-str)."
   ]
  },
  {
   "cell_type": "markdown",
   "metadata": {
    "ExecuteTime": {
     "end_time": "2021-04-27T15:05:03.363642Z",
     "start_time": "2021-04-27T15:05:03.361951Z"
    },
    "id": "C_mY9zVrPpyS"
   },
   "source": [
    "### Add a `__repr__` and ` __str__` method to our PlayingCard"
   ]
  },
  {
   "cell_type": "markdown",
   "metadata": {
    "id": "PrkSwXU9PpyS"
   },
   "source": [
    "- have `__repr__` return 'An Instance of a PlayingCard'\n",
    "- have `__str__` return \"A Playing Card\""
   ]
  },
  {
   "cell_type": "code",
   "execution_count": null,
   "metadata": {
    "ExecuteTime": {
     "end_time": "2021-04-27T15:06:18.907145Z",
     "start_time": "2021-04-27T15:06:18.902120Z"
    },
    "id": "biqlOtrNPpyS"
   },
   "outputs": [],
   "source": [
    "### add a __repr__() method that returns \"A Playing Card\"\n",
    "class PlayingCard:\n",
    "\n",
    "    \n",
    "    def __init__(self,value,suit):\n",
    "        \"\"\"Creates a playing card instance with the specified value and suit\n",
    "        Value should be 2-10, or J,Q,K,A\n",
    "        Suit should be 'H','D','C','S'\n",
    "        \"\"\"\n",
    "        self.value = value\n",
    "\n",
    "        value = str(value)\n",
    "        value_dct = {\n",
    "            '2': 2,'3': 3, '4': 4, '5': 5, '6': 6,\n",
    "            '7': 7, '8': 8, '9': 9, '10': 10,\n",
    "            'J': 11,'Q': 12, 'K': 13, 'A': 14\n",
    "            }\n",
    "        \n",
    "        self._value = value_dct[value]\n",
    "        self.suit = suit\n",
    "        self.color = 'black' if suit in ('S', 'C') else 'red'\n",
    "\n",
    "    \n",
    "    def flip(self):\n",
    "        print(f\"{self.value} of {self.suit}\")\n",
    "        \n",
    "    def __gt__(self, other):\n",
    "        return self._value > other._value\n",
    "    \n",
    "    def __lt__(self, other):\n",
    "        return self._value < other._value\n",
    "    \n",
    "    def __repr__(self):\n",
    "        return \"An Instance of a PlayingCard\"\n",
    "    \n",
    "    def __str__(self):\n",
    "        return \"A Playing Card\""
   ]
  },
  {
   "cell_type": "code",
   "execution_count": null,
   "metadata": {
    "ExecuteTime": {
     "end_time": "2021-04-27T15:06:26.653303Z",
     "start_time": "2021-04-27T15:06:26.649164Z"
    },
    "colab": {
     "base_uri": "https://localhost:8080/"
    },
    "id": "rIs6z2YJPpyS",
    "outputId": "857c1be0-0a27-417e-a9de-fd3de1661674"
   },
   "outputs": [],
   "source": [
    "## Test out our __repr__ & __str__\n",
    "## Run this cell to test our value comparison from before\n",
    "card1 = PlayingCard('J','H')\n",
    "\n",
    "card2 = PlayingCard(7,'S')\n",
    "print(card1)\n",
    "card1"
   ]
  },
  {
   "cell_type": "markdown",
   "metadata": {
    "id": "L76_022sPpyS"
   },
   "source": [
    "### Making Things More Interesting"
   ]
  },
  {
   "cell_type": "markdown",
   "metadata": {
    "id": "3K6pr2VBPpyS"
   },
   "source": [
    "-  Instead of our text-based `__repr__` and `__str__`, let's be sneaky and use an image of card back for our `__repr__`.\n",
    "\n",
    "<img src=\"card_back.png\" width=100>"
   ]
  },
  {
   "cell_type": "code",
   "execution_count": 26,
   "metadata": {
    "ExecuteTime": {
     "end_time": "2021-04-27T15:45:06.751160Z",
     "start_time": "2021-04-27T15:45:06.670308Z"
    },
    "colab": {
     "base_uri": "https://localhost:8080/",
     "height": 167
    },
    "id": "vHLgTSGFPpyS",
    "outputId": "01a2b317-6904-4536-e24c-c329267f1192"
   },
   "outputs": [
    {
     "data": {
      "image/png": "[encoded data removed]",
      "text/plain": [
       "<PIL.Image.Image image mode=RGBA size=100x150>"
      ]
     },
     "execution_count": 26,
     "metadata": {},
     "output_type": "execute_result"
    }
   ],
   "source": [
    "from PIL import Image\n",
    "img = Image.open(\"card_back.png\")\n",
    "img.resize((100,150))"
   ]
  },
  {
   "cell_type": "markdown",
   "metadata": {
    "id": "ROSSG3o-PpyS"
   },
   "source": [
    "> - Add a `back` attribute that stores the image of the card. \n",
    "- Replace our `__repr__` with display the image\n",
    "    - Go ahead and delete our `__str__` since we want it to behave the same as `__repr__` anyway"
   ]
  },
  {
   "cell_type": "code",
   "execution_count": 27,
   "metadata": {
    "ExecuteTime": {
     "end_time": "2021-04-27T15:08:17.649268Z",
     "start_time": "2021-04-27T15:08:17.643519Z"
    },
    "id": "cuVCA9wtPpyS"
   },
   "outputs": [],
   "source": [
    "### add a .back containing the stored image of the card.\n",
    "### add a __repr__() method that returns \"A Playing Card\"\n",
    "class PlayingCard:\n",
    "\n",
    "    \n",
    "    def __init__(self,value,suit):\n",
    "        \"\"\"Creates a playing card instance with the specified value and suit\n",
    "        Value should be 2-10, or J,Q,K,A\n",
    "        Suit should be 'H','D','C','S'\n",
    "        \"\"\"\n",
    "        self.value = value\n",
    "\n",
    "        value = str(value)\n",
    "        value_dct = {\n",
    "            '2': 2,'3': 3, '4': 4, '5': 5, '6': 6,\n",
    "            '7': 7, '8': 8, '9': 9, '10': 10,\n",
    "            'J': 11,'Q': 12, 'K': 13, 'A': 14\n",
    "            }\n",
    "        \n",
    "        self._value = value_dct[value]\n",
    "        self.suit = suit\n",
    "        self.color = 'black' if suit in ('S', 'C') else 'red'\n",
    "        \n",
    "        self.back = Image.open(\"card_back.png\").resize((100,150))\n",
    "        \n",
    "\n",
    "    \n",
    "    def flip(self):\n",
    "        print(f\"{self.value} of {self.suit}\")\n",
    "        \n",
    "    def __gt__(self, other):\n",
    "        return self._value > other._value\n",
    "    \n",
    "    def __lt__(self, other):\n",
    "        return self._value < other._value\n",
    "    \n",
    "    def __repr__(self):\n",
    "        display(self.back)\n",
    "        return \"\"\n",
    "    \n",
    "    def __str__(self):\n",
    "        return \"A Playing Card\"\n",
    "    \n",
    "    "
   ]
  },
  {
   "cell_type": "code",
   "execution_count": 28,
   "metadata": {
    "ExecuteTime": {
     "end_time": "2021-04-27T15:08:18.279260Z",
     "start_time": "2021-04-27T15:08:18.258512Z"
    },
    "colab": {
     "base_uri": "https://localhost:8080/",
     "height": 167
    },
    "id": "3RAlVbNOPpyT",
    "outputId": "d44f2856-f1d2-46bf-d382-23909739040e"
   },
   "outputs": [
    {
     "name": "stdout",
     "output_type": "stream",
     "text": [
      "A Playing Card\n"
     ]
    },
    {
     "data": {
      "image/png": "[encoded data removed]",
      "text/plain": [
       "<PIL.Image.Image image mode=RGBA size=100x150>"
      ]
     },
     "metadata": {},
     "output_type": "display_data"
    },
    {
     "data": {
      "text/plain": []
     },
     "execution_count": 28,
     "metadata": {},
     "output_type": "execute_result"
    }
   ],
   "source": [
    "## Test out our __repr__\n",
    "card1 = PlayingCard(\"J\",'H')\n",
    "print(card1)\n",
    "card1#.back\n"
   ]
  },
  {
   "cell_type": "code",
   "execution_count": 29,
   "metadata": {
    "ExecuteTime": {
     "end_time": "2021-04-27T15:08:26.280526Z",
     "start_time": "2021-04-27T15:08:26.271969Z"
    },
    "colab": {
     "base_uri": "https://localhost:8080/",
     "height": 185
    },
    "id": "T8Tbj-KWPpyT",
    "outputId": "836a824e-94c3-4ec5-a7ee-77f18244b53f"
   },
   "outputs": [
    {
     "name": "stdout",
     "output_type": "stream",
     "text": [
      "A Playing Card\n"
     ]
    }
   ],
   "source": [
    "# test our __str__\n",
    "print(card1)"
   ]
  },
  {
   "cell_type": "code",
   "execution_count": 30,
   "metadata": {
    "ExecuteTime": {
     "end_time": "2021-04-27T15:08:19.414553Z",
     "start_time": "2021-04-27T15:08:19.411154Z"
    },
    "colab": {
     "base_uri": "https://localhost:8080/"
    },
    "id": "f_7neuwKPpyT",
    "outputId": "3a18ab0e-01d2-4041-c065-f1287ca93cbe"
   },
   "outputs": [
    {
     "name": "stdout",
     "output_type": "stream",
     "text": [
      "J of H\n"
     ]
    }
   ],
   "source": [
    "#test our .flip()\n",
    "card1.flip()"
   ]
  },
  {
   "cell_type": "markdown",
   "metadata": {
    "id": "UwdG_h4DPpyT"
   },
   "source": [
    "> Success!"
   ]
  },
  {
   "cell_type": "markdown",
   "metadata": {
    "id": "GJmOU47rPpyT"
   },
   "source": [
    "### Making our class even MORE fun "
   ]
  },
  {
   "cell_type": "markdown",
   "metadata": {
    "id": "R-4rmo_CPpyT"
   },
   "source": [
    "- Our `.flip()` method is kind of boring compared to our `__repr__`\n",
    "- If only we had some way of using symbols in our text instead of just boring old font.... 🤔"
   ]
  },
  {
   "cell_type": "code",
   "execution_count": 31,
   "metadata": {
    "ExecuteTime": {
     "end_time": "2021-04-27T15:10:41.376852Z",
     "start_time": "2021-04-27T15:10:41.373914Z"
    },
    "colab": {
     "base_uri": "https://localhost:8080/"
    },
    "id": "dxRI2SM0PpyT",
    "outputId": "01ad66ab-3a7f-4dbf-87ca-730eddfacfb6"
   },
   "outputs": [
    {
     "data": {
      "text/plain": [
       "{'S': '♠️', 'C': '♣️', 'D': '♦️', 'H': '♥️'}"
      ]
     },
     "execution_count": 31,
     "metadata": {},
     "output_type": "execute_result"
    }
   ],
   "source": [
    "## Our dictionary of suit symbols\n",
    "symbols = {'S':'♠️','C':'♣️','D':'♦️','H':'♥️'}\n",
    "symbols"
   ]
  },
  {
   "cell_type": "markdown",
   "metadata": {
    "id": "kPEBKT6KPpyT"
   },
   "source": [
    "> #### Use these emoji symbols plus the provided make_ascii_card to overhaul our class's .flip()"
   ]
  },
  {
   "cell_type": "code",
   "execution_count": 32,
   "metadata": {
    "ExecuteTime": {
     "end_time": "2021-04-27T15:11:40.912836Z",
     "start_time": "2021-04-27T15:11:40.907797Z"
    },
    "colab": {
     "base_uri": "https://localhost:8080/"
    },
    "id": "yzjwTQHsPpyT",
    "outputId": "fee135f9-e8dd-43f5-face-3bc97f7f73f8"
   },
   "outputs": [
    {
     "name": "stdout",
     "output_type": "stream",
     "text": [
      "┌─────────┐\n",
      "│A        │\n",
      "│         │\n",
      "│         │\n",
      "│    ♦️   │\n",
      "│         │\n",
      "│         │\n",
      "│        A│\n",
      "└─────────┘\n"
     ]
    }
   ],
   "source": [
    "def make_ascii_card(name, suit):\n",
    "    \"\"\"Ascii Card adapted from: https://codereview.stackexchange.com/questions/82103/ascii-fication-of-playing-cards\n",
    "    \"\"\"\n",
    "    symbols = {'S':'♠️','C':'♣️',\n",
    "               'D':'♦️','H':'♥️'}\n",
    "    suit_symbol = symbols[suit]\n",
    "    if name == '10':\n",
    "        space=''\n",
    "    else:\n",
    "        space = ' '\n",
    "\n",
    "    # add the individual card on a line by line basis\n",
    "    _ascii=[]\n",
    "    _ascii.append('┌─────────┐')\n",
    "    _ascii.append(f'│{name}{space}       │')#.format(rank, space))  # use two {} one for char, one for space or char\n",
    "    _ascii.append('│         │')\n",
    "    _ascii.append('│         │')\n",
    "    _ascii.append(f'│    {suit_symbol}   │') #.format(suit))\n",
    "    _ascii.append('│         │')\n",
    "    _ascii.append('│         │')\n",
    "    _ascii.append(f'│       {space}{name}│')#.format(space, rank))\n",
    "    _ascii.append('└─────────┘')\n",
    "    \n",
    "    return '\\n'.join(_ascii)\n",
    "\n",
    "\n",
    "\n",
    "print(make_ascii_card('A','D'))"
   ]
  },
  {
   "cell_type": "markdown",
   "metadata": {
    "id": "lIWkFQGoPpyT"
   },
   "source": [
    "> - Add a .face containing the stored ascii version of the card.\n",
    "- Change `.flip()` to use the new face.\n"
   ]
  },
  {
   "cell_type": "code",
   "execution_count": 33,
   "metadata": {
    "ExecuteTime": {
     "end_time": "2021-04-27T15:13:05.024482Z",
     "start_time": "2021-04-27T15:13:05.019058Z"
    },
    "id": "Pi53-ieRPpyT"
   },
   "outputs": [],
   "source": [
    "### add a .face containing the stored ascii version of the card.\n",
    "### add a .back containing the stored image of the card.\n",
    "### add a __repr__() method that returns \"A Playing Card\"\n",
    "class PlayingCard:\n",
    "\n",
    "    \n",
    "    def __init__(self,value,suit):\n",
    "        \"\"\"Creates a playing card instance with the specified value and suit\n",
    "        Value should be 2-10, or J,Q,K,A\n",
    "        Suit should be 'H','D','C','S'\n",
    "        \"\"\"\n",
    "        self.value = value\n",
    "\n",
    "        value = str(value)\n",
    "        value_dct = {\n",
    "            '2': 2,'3': 3, '4': 4, '5': 5, '6': 6,\n",
    "            '7': 7, '8': 8, '9': 9, '10': 10,\n",
    "            'J': 11,'Q': 12, 'K': 13, 'A': 14\n",
    "            }\n",
    "        \n",
    "        self._value = value_dct[value]\n",
    "        self.suit = suit\n",
    "        self.color = 'black' if suit in ('S', 'C') else 'red'\n",
    "        \n",
    "        self.back = Image.open(\"card_back.png\").resize((100,150))\n",
    "        self.face = make_ascii_card(self.value, self.suit)\n",
    "\n",
    "    \n",
    "    def flip(self):\n",
    "        # print(f\"{self.value} of {self.suit}\")\n",
    "        print(self.face)\n",
    "        \n",
    "    def __gt__(self, other):\n",
    "        return self._value > other._value\n",
    "    \n",
    "    def __lt__(self, other):\n",
    "        return self._value < other._value\n",
    "    \n",
    "    def __repr__(self):\n",
    "        display(self.back)\n",
    "        return \"\"\n",
    "    \n",
    "    def __str__(self):\n",
    "        return \"A Playing Card\"\n",
    "    "
   ]
  },
  {
   "cell_type": "code",
   "execution_count": 34,
   "metadata": {
    "ExecuteTime": {
     "end_time": "2021-04-27T15:14:30.595365Z",
     "start_time": "2021-04-27T15:14:30.565917Z"
    },
    "colab": {
     "base_uri": "https://localhost:8080/",
     "height": 646
    },
    "id": "R1r8QRknPpyT",
    "outputId": "f4eb6c6c-640f-446f-d314-868c6e372f44"
   },
   "outputs": [
    {
     "data": {
      "image/png": "[encoded data removed]",
      "text/plain": [
       "<PIL.Image.Image image mode=RGBA size=100x150>"
      ]
     },
     "metadata": {},
     "output_type": "display_data"
    },
    {
     "data": {
      "text/plain": []
     },
     "metadata": {},
     "output_type": "display_data"
    },
    {
     "name": "stdout",
     "output_type": "stream",
     "text": [
      "┌─────────┐\n",
      "│J        │\n",
      "│         │\n",
      "│         │\n",
      "│    ♥️   │\n",
      "│         │\n",
      "│         │\n",
      "│        J│\n",
      "└─────────┘\n"
     ]
    },
    {
     "data": {
      "image/png": "[encoded data removed]",
      "text/plain": [
       "<PIL.Image.Image image mode=RGBA size=100x150>"
      ]
     },
     "metadata": {},
     "output_type": "display_data"
    },
    {
     "data": {
      "text/plain": []
     },
     "metadata": {},
     "output_type": "display_data"
    },
    {
     "name": "stdout",
     "output_type": "stream",
     "text": [
      "┌─────────┐\n",
      "│7        │\n",
      "│         │\n",
      "│         │\n",
      "│    ♠️   │\n",
      "│         │\n",
      "│         │\n",
      "│        7│\n",
      "└─────────┘\n"
     ]
    },
    {
     "data": {
      "text/plain": [
       "True"
      ]
     },
     "execution_count": 34,
     "metadata": {},
     "output_type": "execute_result"
    }
   ],
   "source": [
    "## Run this cell to test our value comparison from before\n",
    "card1 = PlayingCard('J','H')\n",
    "display(card1)\n",
    "card1.flip()\n",
    "\n",
    "card2 = PlayingCard(7,'S')\n",
    "display(card2)\n",
    "card2.flip()\n",
    "\n",
    "card1>card2"
   ]
  },
  {
   "cell_type": "markdown",
   "metadata": {
    "id": "mvqBTmLuPpyT"
   },
   "source": [
    "> Yay!!! We are HUGE nerds but yay!!!!"
   ]
  },
  {
   "cell_type": "markdown",
   "metadata": {
    "id": "_Ir-nUbxPpyT"
   },
   "source": [
    "# NEXT:  Make a `Deck` to Explore some additional special methods. "
   ]
  },
  {
   "cell_type": "markdown",
   "metadata": {
    "id": "sFU4u_aOPpyU"
   },
   "source": [
    "### Overview - Whats in a Deck?\n",
    "\n",
    "***A Deck***\n",
    "- \"a collection of Cards\"\n",
    "    - Contains all standard 52 cards in a `.cards` attribute.\n",
    "- Has a  `.shuffle()` method.\n",
    "- Returns the number of cards in the deck as the `__repr__`\n",
    "\n",
    "- Has a `__getitem__` method to make the deck subscriptable"
   ]
  },
  {
   "cell_type": "code",
   "execution_count": 35,
   "metadata": {
    "ExecuteTime": {
     "end_time": "2021-04-27T15:21:14.237671Z",
     "start_time": "2021-04-27T15:21:14.234542Z"
    },
    "id": "IlencGv4PpyU"
   },
   "outputs": [],
   "source": [
    "import numpy as np\n",
    "\n",
    "class Deck:\n",
    "    def __init__(self):\n",
    "        self.cards = []\n",
    "        \n",
    "        cards_to_make = list(range(2,11))\n",
    "        cards_to_make.extend(['J','Q','K','A'])\n",
    "        suits_to_make = ['S','C','D','H']\n",
    "        \n",
    "        \n",
    "        for suit in suits_to_make:\n",
    "            for value in cards_to_make:\n",
    "                self.cards.append(PlayingCard(value, suit))\n",
    "                \n",
    "    def __repr__(self):\n",
    "        return f\"There are {len(self.cards)} cards in the deck.\"\n",
    "\n",
    "    def __getitem__(self, index):\n",
    "        return self.cards[index]\n",
    "    \n",
    "    def shuffle(self):\n",
    "        np.random.shuffle(self.cards)"
   ]
  },
  {
   "cell_type": "code",
   "execution_count": 36,
   "metadata": {
    "colab": {
     "base_uri": "https://localhost:8080/"
    },
    "id": "tqd7P7ntPpyU",
    "outputId": "4424d9e3-31cc-4a47-fb58-06a1a140e74b"
   },
   "outputs": [
    {
     "data": {
      "text/plain": [
       "There are 52 cards in the deck."
      ]
     },
     "execution_count": 36,
     "metadata": {},
     "output_type": "execute_result"
    }
   ],
   "source": [
    "## Test out the Deck class by running the next cells\n",
    "deck = Deck()\n",
    "deck"
   ]
  },
  {
   "cell_type": "code",
   "execution_count": 37,
   "metadata": {
    "ExecuteTime": {
     "end_time": "2021-04-27T15:21:44.380673Z",
     "start_time": "2021-04-27T15:21:44.372101Z"
    },
    "colab": {
     "base_uri": "https://localhost:8080/",
     "height": 167
    },
    "id": "fAOTBMQMPpyU",
    "outputId": "259b64da-20cd-447d-edfa-7314c69ae847",
    "scrolled": true
   },
   "outputs": [
    {
     "data": {
      "image/png": "[encoded data removed]",
      "text/plain": [
       "<PIL.Image.Image image mode=RGBA size=100x150>"
      ]
     },
     "metadata": {},
     "output_type": "display_data"
    },
    {
     "data": {
      "text/plain": []
     },
     "execution_count": 37,
     "metadata": {},
     "output_type": "execute_result"
    }
   ],
   "source": [
    "## Slice out the first .cards\n",
    "deck[0]"
   ]
  },
  {
   "cell_type": "code",
   "execution_count": 38,
   "metadata": {
    "ExecuteTime": {
     "end_time": "2021-04-27T15:23:07.753620Z",
     "start_time": "2021-04-27T15:23:07.750831Z"
    },
    "colab": {
     "base_uri": "https://localhost:8080/"
    },
    "id": "xMkPQxjiPpyU",
    "outputId": "dcd47a9d-bd9c-4fce-bbe8-4a3ca35e7998"
   },
   "outputs": [
    {
     "name": "stdout",
     "output_type": "stream",
     "text": [
      "┌─────────┐\n",
      "│2        │\n",
      "│         │\n",
      "│         │\n",
      "│    ♠️   │\n",
      "│         │\n",
      "│         │\n",
      "│        2│\n",
      "└─────────┘\n"
     ]
    }
   ],
   "source": [
    "## Slice first card directly and flip\n",
    "deck[0].flip()"
   ]
  },
  {
   "cell_type": "code",
   "execution_count": 39,
   "metadata": {},
   "outputs": [
    {
     "name": "stdout",
     "output_type": "stream",
     "text": [
      "┌─────────┐\n",
      "│3        │\n",
      "│         │\n",
      "│         │\n",
      "│    ♠️   │\n",
      "│         │\n",
      "│         │\n",
      "│        3│\n",
      "└─────────┘\n"
     ]
    }
   ],
   "source": [
    "deck[1].flip()"
   ]
  },
  {
   "cell_type": "code",
   "execution_count": 40,
   "metadata": {
    "ExecuteTime": {
     "end_time": "2021-04-27T15:23:18.082274Z",
     "start_time": "2021-04-27T15:23:18.079557Z"
    },
    "colab": {
     "base_uri": "https://localhost:8080/"
    },
    "id": "-FndGdYHPpyU",
    "outputId": "0dfa81b4-ed2f-4157-e70c-a47c7f3468a0",
    "scrolled": true
   },
   "outputs": [],
   "source": [
    "## shuffle and flip the first card again\n",
    "deck.shuffle()"
   ]
  },
  {
   "cell_type": "code",
   "execution_count": 41,
   "metadata": {
    "ExecuteTime": {
     "end_time": "2021-04-27T15:21:41.532922Z",
     "start_time": "2021-04-27T15:21:41.527979Z"
    },
    "id": "Yqq0g1NxPpyU"
   },
   "outputs": [
    {
     "name": "stdout",
     "output_type": "stream",
     "text": [
      "┌─────────┐\n",
      "│10        │\n",
      "│         │\n",
      "│         │\n",
      "│    ♦️   │\n",
      "│         │\n",
      "│         │\n",
      "│        10│\n",
      "└─────────┘\n"
     ]
    }
   ],
   "source": [
    "## Completed Deck Class\n",
    "deck[0].flip()"
   ]
  },
  {
   "cell_type": "code",
   "execution_count": null,
   "metadata": {
    "id": "wZHAV2TLPpyU"
   },
   "outputs": [],
   "source": []
  },
  {
   "cell_type": "markdown",
   "metadata": {
    "id": "JWR_nL_QPpyU"
   },
   "source": [
    "# Nice!\n",
    "\n",
    "## To recap, we:\n",
    "\n",
    "1. Built a Card object using `class`.\n",
    "    - Used `__init__(self)` to set attributes and run processes when the object is created.\n",
    "    - Created a method `flip(self)` which \"flips the card over\" (shows the name and suit).\n",
    "    - Experimented with `__str__` and `__repr__`.\n",
    "\n",
    "  \n",
    "2. Built a Deck object that uses `Cards`!\n",
    "    - Decks can `shuffle` and `shuffle_and_deal`.\n",
    "    \n",
    "---\n",
    "\n",
    "There are some points which we missed for the sake of drawing up the example.\n",
    "\n",
    "- We could clean up the Card functions for deciding what to do if a user tries to create a Card without a real `name` or `suit`.\n",
    "\n",
    "- We also don't have a plan for what happens if the Deck uses `shuffle_and_deal` but doesn't have enough cards left!"
   ]
  },
  {
   "cell_type": "markdown",
   "metadata": {
    "id": "RsLnWSCsPpyU"
   },
   "source": [
    "___"
   ]
  },
  {
   "cell_type": "markdown",
   "metadata": {
    "id": "e8Qdrucz2BqK"
   },
   "source": [
    "# APPENDIX"
   ]
  },
  {
   "cell_type": "markdown",
   "metadata": {
    "id": "bKQi2RmzPpyU"
   },
   "source": [
    "## Inheritance\n"
   ]
  },
  {
   "cell_type": "markdown",
   "metadata": {
    "id": "hF8qr4s_PpyU"
   },
   "source": [
    "- We can inherit all of the properties of another class when we write a new one to save ourselves time and effort. "
   ]
  },
  {
   "cell_type": "markdown",
   "metadata": {
    "id": "_hreJdfL2Iym"
   },
   "source": [
    "\n",
    "### Use inheritance to make our own OneHotEncoder"
   ]
  },
  {
   "cell_type": "code",
   "execution_count": 42,
   "metadata": {
    "colab": {
     "base_uri": "https://localhost:8080/",
     "height": 335
    },
    "id": "mXqOAuulPpyU",
    "outputId": "c224edd1-b0b4-48f9-e24a-527ff7c536f9"
   },
   "outputs": [],
   "source": [
    "import pandas as pd\n",
    "url = url ='https://raw.githubusercontent.com/jirvingphd/iowa-prisoner-recidivism-mod-3-project/b6a92d1474c3eee790ab894f79751d69578bfb18/datasets/FULL_3-Year_Recidivism_for_Offenders_Released_from_Prison_in_Iowa.csv'\n"
   ]
  },
  {
   "cell_type": "code",
   "execution_count": 43,
   "metadata": {
    "ExecuteTime": {
     "end_time": "2021-04-27T15:25:18.454639Z",
     "start_time": "2021-04-27T15:25:17.137337Z"
    },
    "colab": {
     "base_uri": "https://localhost:8080/",
     "height": 478
    },
    "id": "5moTMDW6PpyU",
    "outputId": "aa391f92-cf05-4206-dabd-4a67c6633848",
    "scrolled": false
   },
   "outputs": [
    {
     "data": {
      "text/html": [
       "<div>\n",
       "<style scoped>\n",
       "    .dataframe tbody tr th:only-of-type {\n",
       "        vertical-align: middle;\n",
       "    }\n",
       "\n",
       "    .dataframe tbody tr th {\n",
       "        vertical-align: top;\n",
       "    }\n",
       "\n",
       "    .dataframe thead th {\n",
       "        text-align: right;\n",
       "    }\n",
       "</style>\n",
       "<table border=\"1\" class=\"dataframe\">\n",
       "  <thead>\n",
       "    <tr style=\"text-align: right;\">\n",
       "      <th></th>\n",
       "      <th>Fiscal Year Released</th>\n",
       "      <th>Recidivism Reporting Year</th>\n",
       "      <th>Race - Ethnicity</th>\n",
       "      <th>Age At Release</th>\n",
       "      <th>Convicting Offense Classification</th>\n",
       "      <th>Convicting Offense Type</th>\n",
       "      <th>Convicting Offense Subtype</th>\n",
       "      <th>Release Type</th>\n",
       "      <th>Main Supervising District</th>\n",
       "      <th>Recidivism - Return to Prison</th>\n",
       "      <th>Part of Target Population</th>\n",
       "      <th>Recidivism Type</th>\n",
       "      <th>Sex</th>\n",
       "    </tr>\n",
       "  </thead>\n",
       "  <tbody>\n",
       "    <tr>\n",
       "      <th>0</th>\n",
       "      <td>2010</td>\n",
       "      <td>2013</td>\n",
       "      <td>Black - Non-Hispanic</td>\n",
       "      <td>25-34</td>\n",
       "      <td>C Felony</td>\n",
       "      <td>Violent</td>\n",
       "      <td>Robbery</td>\n",
       "      <td>Parole</td>\n",
       "      <td>7JD</td>\n",
       "      <td>Yes</td>\n",
       "      <td>Yes</td>\n",
       "      <td>New</td>\n",
       "      <td>Male</td>\n",
       "    </tr>\n",
       "    <tr>\n",
       "      <th>1</th>\n",
       "      <td>2010</td>\n",
       "      <td>2013</td>\n",
       "      <td>White - Non-Hispanic</td>\n",
       "      <td>25-34</td>\n",
       "      <td>D Felony</td>\n",
       "      <td>Property</td>\n",
       "      <td>Theft</td>\n",
       "      <td>Discharged – End of Sentence</td>\n",
       "      <td>MISSING</td>\n",
       "      <td>Yes</td>\n",
       "      <td>No</td>\n",
       "      <td>Tech</td>\n",
       "      <td>Male</td>\n",
       "    </tr>\n",
       "    <tr>\n",
       "      <th>2</th>\n",
       "      <td>2010</td>\n",
       "      <td>2013</td>\n",
       "      <td>White - Non-Hispanic</td>\n",
       "      <td>35-44</td>\n",
       "      <td>B Felony</td>\n",
       "      <td>Drug</td>\n",
       "      <td>Trafficking</td>\n",
       "      <td>Parole</td>\n",
       "      <td>5JD</td>\n",
       "      <td>Yes</td>\n",
       "      <td>Yes</td>\n",
       "      <td>Tech</td>\n",
       "      <td>Male</td>\n",
       "    </tr>\n",
       "    <tr>\n",
       "      <th>3</th>\n",
       "      <td>2010</td>\n",
       "      <td>2013</td>\n",
       "      <td>White - Non-Hispanic</td>\n",
       "      <td>25-34</td>\n",
       "      <td>B Felony</td>\n",
       "      <td>Other</td>\n",
       "      <td>Other Criminal</td>\n",
       "      <td>Parole</td>\n",
       "      <td>6JD</td>\n",
       "      <td>No</td>\n",
       "      <td>Yes</td>\n",
       "      <td>No Recidivism</td>\n",
       "      <td>Male</td>\n",
       "    </tr>\n",
       "    <tr>\n",
       "      <th>4</th>\n",
       "      <td>2010</td>\n",
       "      <td>2013</td>\n",
       "      <td>Black - Non-Hispanic</td>\n",
       "      <td>35-44</td>\n",
       "      <td>D Felony</td>\n",
       "      <td>Violent</td>\n",
       "      <td>Assault</td>\n",
       "      <td>Discharged – End of Sentence</td>\n",
       "      <td>MISSING</td>\n",
       "      <td>Yes</td>\n",
       "      <td>No</td>\n",
       "      <td>Tech</td>\n",
       "      <td>Male</td>\n",
       "    </tr>\n",
       "  </tbody>\n",
       "</table>\n",
       "</div>"
      ],
      "text/plain": [
       "   Fiscal Year Released  Recidivism Reporting Year      Race - Ethnicity  \\\n",
       "0                  2010                       2013  Black - Non-Hispanic   \n",
       "1                  2010                       2013  White - Non-Hispanic   \n",
       "2                  2010                       2013  White - Non-Hispanic   \n",
       "3                  2010                       2013  White - Non-Hispanic   \n",
       "4                  2010                       2013  Black - Non-Hispanic   \n",
       "\n",
       "  Age At Release  Convicting Offense Classification Convicting Offense Type  \\\n",
       "0           25-34                          C Felony                 Violent   \n",
       "1           25-34                          D Felony                Property   \n",
       "2           35-44                          B Felony                    Drug   \n",
       "3           25-34                          B Felony                   Other   \n",
       "4           35-44                          D Felony                 Violent   \n",
       "\n",
       "  Convicting Offense Subtype                  Release Type  \\\n",
       "0                    Robbery                        Parole   \n",
       "1                      Theft  Discharged – End of Sentence   \n",
       "2                Trafficking                        Parole   \n",
       "3             Other Criminal                        Parole   \n",
       "4                    Assault  Discharged – End of Sentence   \n",
       "\n",
       "  Main Supervising District Recidivism - Return to Prison  \\\n",
       "0                       7JD                           Yes   \n",
       "1                   MISSING                           Yes   \n",
       "2                       5JD                           Yes   \n",
       "3                       6JD                            No   \n",
       "4                   MISSING                           Yes   \n",
       "\n",
       "  Part of Target Population Recidivism Type   Sex  \n",
       "0                       Yes             New  Male  \n",
       "1                        No            Tech  Male  \n",
       "2                       Yes            Tech  Male  \n",
       "3                       Yes   No Recidivism  Male  \n",
       "4                        No            Tech  Male  "
      ]
     },
     "execution_count": 43,
     "metadata": {},
     "output_type": "execute_result"
    }
   ],
   "source": [
    "## Getting the dataset ready (don't worry about this code for now)\n",
    "df= pd.read_csv(url)\n",
    "df.fillna('MISSING',inplace=True)\n",
    "drop_cols= [col for col in df.columns if 'New' in col]\n",
    "drop_cols.append('Days to Recidivism')\n",
    "df.drop(columns=drop_cols,inplace=True)\n",
    "df.head()\n"
   ]
  },
  {
   "cell_type": "code",
   "execution_count": 44,
   "metadata": {
    "ExecuteTime": {
     "end_time": "2021-04-27T15:30:23.892831Z",
     "start_time": "2021-04-27T15:30:23.877657Z"
    },
    "colab": {
     "base_uri": "https://localhost:8080/"
    },
    "id": "dMNOlbu_PpyU",
    "outputId": "542c603c-3462-40ff-a1b9-f41ee1e56c0e"
   },
   "outputs": [
    {
     "data": {
      "text/plain": [
       "array([[0., 0., 0., ..., 0., 0., 0.],\n",
       "       [0., 1., 0., ..., 0., 0., 0.],\n",
       "       [0., 0., 0., ..., 0., 0., 0.],\n",
       "       ...,\n",
       "       [0., 0., 0., ..., 0., 0., 0.],\n",
       "       [0., 0., 0., ..., 1., 0., 0.],\n",
       "       [0., 0., 0., ..., 0., 0., 0.]])"
      ]
     },
     "execution_count": 44,
     "metadata": {},
     "output_type": "execute_result"
    }
   ],
   "source": [
    "## let's encode \"ReleaseType\" using onehotencoder\n",
    "from sklearn.preprocessing import OneHotEncoder\n",
    "cols_to_encode = ['Release Type']\n",
    "\n",
    "encoder = OneHotEncoder(sparse=False).fit(df[cols_to_encode])\n",
    "\n",
    "data_ohe = encoder.transform(df[cols_to_encode])\n",
    "data_ohe"
   ]
  },
  {
   "cell_type": "code",
   "execution_count": 45,
   "metadata": {
    "ExecuteTime": {
     "end_time": "2021-04-27T15:32:23.181997Z",
     "start_time": "2021-04-27T15:32:23.162633Z"
    },
    "colab": {
     "base_uri": "https://localhost:8080/",
     "height": 592
    },
    "id": "vqFLOO4MPpyU",
    "outputId": "879b5521-1a58-43e2-b6a4-d621ac691e68"
   },
   "outputs": [
    {
     "name": "stderr",
     "output_type": "stream",
     "text": [
      "/opt/homebrew/Caskroom/miniforge/base/envs/dojo-env/lib/python3.8/site-packages/sklearn/utils/deprecation.py:87: FutureWarning: Function get_feature_names is deprecated; get_feature_names is deprecated in 1.0 and will be removed in 1.2. Please use get_feature_names_out instead.\n",
      "  warnings.warn(msg, category=FutureWarning)\n"
     ]
    },
    {
     "data": {
      "text/html": [
       "<div>\n",
       "<style scoped>\n",
       "    .dataframe tbody tr th:only-of-type {\n",
       "        vertical-align: middle;\n",
       "    }\n",
       "\n",
       "    .dataframe tbody tr th {\n",
       "        vertical-align: top;\n",
       "    }\n",
       "\n",
       "    .dataframe thead th {\n",
       "        text-align: right;\n",
       "    }\n",
       "</style>\n",
       "<table border=\"1\" class=\"dataframe\">\n",
       "  <thead>\n",
       "    <tr style=\"text-align: right;\">\n",
       "      <th></th>\n",
       "      <th>Release Type_Discharged - Expiration of Sentence</th>\n",
       "      <th>Release Type_Discharged – End of Sentence</th>\n",
       "      <th>Release Type_Interstate Compact Parole</th>\n",
       "      <th>Release Type_MISSING</th>\n",
       "      <th>Release Type_Parole</th>\n",
       "      <th>Release Type_Parole Granted</th>\n",
       "      <th>Release Type_Paroled to Detainer - INS</th>\n",
       "      <th>Release Type_Paroled to Detainer - Iowa</th>\n",
       "      <th>Release Type_Paroled to Detainer - Out of State</th>\n",
       "      <th>Release Type_Paroled to Detainer - U.S. Marshall</th>\n",
       "      <th>Release Type_Paroled w/Immediate Discharge</th>\n",
       "      <th>Release Type_Released to Special Sentence</th>\n",
       "      <th>Release Type_Special Sentence</th>\n",
       "    </tr>\n",
       "  </thead>\n",
       "  <tbody>\n",
       "    <tr>\n",
       "      <th>0</th>\n",
       "      <td>0.0</td>\n",
       "      <td>0.0</td>\n",
       "      <td>0.0</td>\n",
       "      <td>0.0</td>\n",
       "      <td>1.0</td>\n",
       "      <td>0.0</td>\n",
       "      <td>0.0</td>\n",
       "      <td>0.0</td>\n",
       "      <td>0.0</td>\n",
       "      <td>0.0</td>\n",
       "      <td>0.0</td>\n",
       "      <td>0.0</td>\n",
       "      <td>0.0</td>\n",
       "    </tr>\n",
       "    <tr>\n",
       "      <th>1</th>\n",
       "      <td>0.0</td>\n",
       "      <td>1.0</td>\n",
       "      <td>0.0</td>\n",
       "      <td>0.0</td>\n",
       "      <td>0.0</td>\n",
       "      <td>0.0</td>\n",
       "      <td>0.0</td>\n",
       "      <td>0.0</td>\n",
       "      <td>0.0</td>\n",
       "      <td>0.0</td>\n",
       "      <td>0.0</td>\n",
       "      <td>0.0</td>\n",
       "      <td>0.0</td>\n",
       "    </tr>\n",
       "    <tr>\n",
       "      <th>2</th>\n",
       "      <td>0.0</td>\n",
       "      <td>0.0</td>\n",
       "      <td>0.0</td>\n",
       "      <td>0.0</td>\n",
       "      <td>1.0</td>\n",
       "      <td>0.0</td>\n",
       "      <td>0.0</td>\n",
       "      <td>0.0</td>\n",
       "      <td>0.0</td>\n",
       "      <td>0.0</td>\n",
       "      <td>0.0</td>\n",
       "      <td>0.0</td>\n",
       "      <td>0.0</td>\n",
       "    </tr>\n",
       "    <tr>\n",
       "      <th>3</th>\n",
       "      <td>0.0</td>\n",
       "      <td>0.0</td>\n",
       "      <td>0.0</td>\n",
       "      <td>0.0</td>\n",
       "      <td>1.0</td>\n",
       "      <td>0.0</td>\n",
       "      <td>0.0</td>\n",
       "      <td>0.0</td>\n",
       "      <td>0.0</td>\n",
       "      <td>0.0</td>\n",
       "      <td>0.0</td>\n",
       "      <td>0.0</td>\n",
       "      <td>0.0</td>\n",
       "    </tr>\n",
       "    <tr>\n",
       "      <th>4</th>\n",
       "      <td>0.0</td>\n",
       "      <td>1.0</td>\n",
       "      <td>0.0</td>\n",
       "      <td>0.0</td>\n",
       "      <td>0.0</td>\n",
       "      <td>0.0</td>\n",
       "      <td>0.0</td>\n",
       "      <td>0.0</td>\n",
       "      <td>0.0</td>\n",
       "      <td>0.0</td>\n",
       "      <td>0.0</td>\n",
       "      <td>0.0</td>\n",
       "      <td>0.0</td>\n",
       "    </tr>\n",
       "    <tr>\n",
       "      <th>...</th>\n",
       "      <td>...</td>\n",
       "      <td>...</td>\n",
       "      <td>...</td>\n",
       "      <td>...</td>\n",
       "      <td>...</td>\n",
       "      <td>...</td>\n",
       "      <td>...</td>\n",
       "      <td>...</td>\n",
       "      <td>...</td>\n",
       "      <td>...</td>\n",
       "      <td>...</td>\n",
       "      <td>...</td>\n",
       "      <td>...</td>\n",
       "    </tr>\n",
       "    <tr>\n",
       "      <th>26015</th>\n",
       "      <td>0.0</td>\n",
       "      <td>0.0</td>\n",
       "      <td>0.0</td>\n",
       "      <td>0.0</td>\n",
       "      <td>0.0</td>\n",
       "      <td>0.0</td>\n",
       "      <td>1.0</td>\n",
       "      <td>0.0</td>\n",
       "      <td>0.0</td>\n",
       "      <td>0.0</td>\n",
       "      <td>0.0</td>\n",
       "      <td>0.0</td>\n",
       "      <td>0.0</td>\n",
       "    </tr>\n",
       "    <tr>\n",
       "      <th>26016</th>\n",
       "      <td>0.0</td>\n",
       "      <td>0.0</td>\n",
       "      <td>0.0</td>\n",
       "      <td>0.0</td>\n",
       "      <td>0.0</td>\n",
       "      <td>0.0</td>\n",
       "      <td>0.0</td>\n",
       "      <td>0.0</td>\n",
       "      <td>0.0</td>\n",
       "      <td>0.0</td>\n",
       "      <td>0.0</td>\n",
       "      <td>1.0</td>\n",
       "      <td>0.0</td>\n",
       "    </tr>\n",
       "    <tr>\n",
       "      <th>26017</th>\n",
       "      <td>0.0</td>\n",
       "      <td>0.0</td>\n",
       "      <td>0.0</td>\n",
       "      <td>0.0</td>\n",
       "      <td>0.0</td>\n",
       "      <td>1.0</td>\n",
       "      <td>0.0</td>\n",
       "      <td>0.0</td>\n",
       "      <td>0.0</td>\n",
       "      <td>0.0</td>\n",
       "      <td>0.0</td>\n",
       "      <td>0.0</td>\n",
       "      <td>0.0</td>\n",
       "    </tr>\n",
       "    <tr>\n",
       "      <th>26018</th>\n",
       "      <td>0.0</td>\n",
       "      <td>0.0</td>\n",
       "      <td>0.0</td>\n",
       "      <td>0.0</td>\n",
       "      <td>0.0</td>\n",
       "      <td>0.0</td>\n",
       "      <td>0.0</td>\n",
       "      <td>0.0</td>\n",
       "      <td>0.0</td>\n",
       "      <td>0.0</td>\n",
       "      <td>1.0</td>\n",
       "      <td>0.0</td>\n",
       "      <td>0.0</td>\n",
       "    </tr>\n",
       "    <tr>\n",
       "      <th>26019</th>\n",
       "      <td>0.0</td>\n",
       "      <td>0.0</td>\n",
       "      <td>0.0</td>\n",
       "      <td>0.0</td>\n",
       "      <td>0.0</td>\n",
       "      <td>0.0</td>\n",
       "      <td>0.0</td>\n",
       "      <td>0.0</td>\n",
       "      <td>1.0</td>\n",
       "      <td>0.0</td>\n",
       "      <td>0.0</td>\n",
       "      <td>0.0</td>\n",
       "      <td>0.0</td>\n",
       "    </tr>\n",
       "  </tbody>\n",
       "</table>\n",
       "<p>26020 rows × 13 columns</p>\n",
       "</div>"
      ],
      "text/plain": [
       "       Release Type_Discharged - Expiration of Sentence  \\\n",
       "0                                                   0.0   \n",
       "1                                                   0.0   \n",
       "2                                                   0.0   \n",
       "3                                                   0.0   \n",
       "4                                                   0.0   \n",
       "...                                                 ...   \n",
       "26015                                               0.0   \n",
       "26016                                               0.0   \n",
       "26017                                               0.0   \n",
       "26018                                               0.0   \n",
       "26019                                               0.0   \n",
       "\n",
       "       Release Type_Discharged – End of Sentence  \\\n",
       "0                                            0.0   \n",
       "1                                            1.0   \n",
       "2                                            0.0   \n",
       "3                                            0.0   \n",
       "4                                            1.0   \n",
       "...                                          ...   \n",
       "26015                                        0.0   \n",
       "26016                                        0.0   \n",
       "26017                                        0.0   \n",
       "26018                                        0.0   \n",
       "26019                                        0.0   \n",
       "\n",
       "       Release Type_Interstate Compact Parole  Release Type_MISSING  \\\n",
       "0                                         0.0                   0.0   \n",
       "1                                         0.0                   0.0   \n",
       "2                                         0.0                   0.0   \n",
       "3                                         0.0                   0.0   \n",
       "4                                         0.0                   0.0   \n",
       "...                                       ...                   ...   \n",
       "26015                                     0.0                   0.0   \n",
       "26016                                     0.0                   0.0   \n",
       "26017                                     0.0                   0.0   \n",
       "26018                                     0.0                   0.0   \n",
       "26019                                     0.0                   0.0   \n",
       "\n",
       "       Release Type_Parole  Release Type_Parole Granted  \\\n",
       "0                      1.0                          0.0   \n",
       "1                      0.0                          0.0   \n",
       "2                      1.0                          0.0   \n",
       "3                      1.0                          0.0   \n",
       "4                      0.0                          0.0   \n",
       "...                    ...                          ...   \n",
       "26015                  0.0                          0.0   \n",
       "26016                  0.0                          0.0   \n",
       "26017                  0.0                          1.0   \n",
       "26018                  0.0                          0.0   \n",
       "26019                  0.0                          0.0   \n",
       "\n",
       "       Release Type_Paroled to Detainer - INS  \\\n",
       "0                                         0.0   \n",
       "1                                         0.0   \n",
       "2                                         0.0   \n",
       "3                                         0.0   \n",
       "4                                         0.0   \n",
       "...                                       ...   \n",
       "26015                                     1.0   \n",
       "26016                                     0.0   \n",
       "26017                                     0.0   \n",
       "26018                                     0.0   \n",
       "26019                                     0.0   \n",
       "\n",
       "       Release Type_Paroled to Detainer - Iowa  \\\n",
       "0                                          0.0   \n",
       "1                                          0.0   \n",
       "2                                          0.0   \n",
       "3                                          0.0   \n",
       "4                                          0.0   \n",
       "...                                        ...   \n",
       "26015                                      0.0   \n",
       "26016                                      0.0   \n",
       "26017                                      0.0   \n",
       "26018                                      0.0   \n",
       "26019                                      0.0   \n",
       "\n",
       "       Release Type_Paroled to Detainer - Out of State  \\\n",
       "0                                                  0.0   \n",
       "1                                                  0.0   \n",
       "2                                                  0.0   \n",
       "3                                                  0.0   \n",
       "4                                                  0.0   \n",
       "...                                                ...   \n",
       "26015                                              0.0   \n",
       "26016                                              0.0   \n",
       "26017                                              0.0   \n",
       "26018                                              0.0   \n",
       "26019                                              1.0   \n",
       "\n",
       "       Release Type_Paroled to Detainer - U.S. Marshall  \\\n",
       "0                                                   0.0   \n",
       "1                                                   0.0   \n",
       "2                                                   0.0   \n",
       "3                                                   0.0   \n",
       "4                                                   0.0   \n",
       "...                                                 ...   \n",
       "26015                                               0.0   \n",
       "26016                                               0.0   \n",
       "26017                                               0.0   \n",
       "26018                                               0.0   \n",
       "26019                                               0.0   \n",
       "\n",
       "       Release Type_Paroled w/Immediate Discharge  \\\n",
       "0                                             0.0   \n",
       "1                                             0.0   \n",
       "2                                             0.0   \n",
       "3                                             0.0   \n",
       "4                                             0.0   \n",
       "...                                           ...   \n",
       "26015                                         0.0   \n",
       "26016                                         0.0   \n",
       "26017                                         0.0   \n",
       "26018                                         1.0   \n",
       "26019                                         0.0   \n",
       "\n",
       "       Release Type_Released to Special Sentence  \\\n",
       "0                                            0.0   \n",
       "1                                            0.0   \n",
       "2                                            0.0   \n",
       "3                                            0.0   \n",
       "4                                            0.0   \n",
       "...                                          ...   \n",
       "26015                                        0.0   \n",
       "26016                                        1.0   \n",
       "26017                                        0.0   \n",
       "26018                                        0.0   \n",
       "26019                                        0.0   \n",
       "\n",
       "       Release Type_Special Sentence  \n",
       "0                                0.0  \n",
       "1                                0.0  \n",
       "2                                0.0  \n",
       "3                                0.0  \n",
       "4                                0.0  \n",
       "...                              ...  \n",
       "26015                            0.0  \n",
       "26016                            0.0  \n",
       "26017                            0.0  \n",
       "26018                            0.0  \n",
       "26019                            0.0  \n",
       "\n",
       "[26020 rows x 13 columns]"
      ]
     },
     "execution_count": 45,
     "metadata": {},
     "output_type": "execute_result"
    }
   ],
   "source": [
    "## Turn data_ohe into a dataframe:\n",
    "data_ohe = pd.DataFrame(data_ohe,\n",
    "                        columns = encoder.get_feature_names(cols_to_encode))\n",
    "data_ohe"
   ]
  },
  {
   "cell_type": "markdown",
   "metadata": {
    "id": "g9ZdLksNPpyV"
   },
   "source": [
    "### Make our own Encoder"
   ]
  },
  {
   "cell_type": "code",
   "execution_count": 46,
   "metadata": {
    "ExecuteTime": {
     "end_time": "2021-04-27T15:29:29.129711Z",
     "start_time": "2021-04-27T15:29:29.127405Z"
    },
    "id": "skfeIQcmPpyV"
   },
   "outputs": [],
   "source": [
    "class OurOneHotEncoder(OneHotEncoder):\n",
    "    pass"
   ]
  },
  {
   "cell_type": "code",
   "execution_count": 47,
   "metadata": {
    "ExecuteTime": {
     "end_time": "2021-04-27T15:29:46.500311Z",
     "start_time": "2021-04-27T15:29:46.494902Z"
    },
    "colab": {
     "base_uri": "https://localhost:8080/"
    },
    "id": "FolSWkH5PpyV",
    "outputId": "0a0cc817-4020-498d-8f8c-1c526fd49191",
    "scrolled": true
   },
   "outputs": [
    {
     "name": "stdout",
     "output_type": "stream",
     "text": [
      "Help on class OurOneHotEncoder in module __main__:\n",
      "\n",
      "class OurOneHotEncoder(sklearn.preprocessing._encoders.OneHotEncoder)\n",
      " |  OurOneHotEncoder(*, categories='auto', drop=None, sparse=True, dtype=<class 'numpy.float64'>, handle_unknown='error', min_frequency=None, max_categories=None)\n",
      " |  \n",
      " |  Encode categorical features as a one-hot numeric array.\n",
      " |  \n",
      " |  The input to this transformer should be an array-like of integers or\n",
      " |  strings, denoting the values taken on by categorical (discrete) features.\n",
      " |  The features are encoded using a one-hot (aka 'one-of-K' or 'dummy')\n",
      " |  encoding scheme. This creates a binary column for each category and\n",
      " |  returns a sparse matrix or dense array (depending on the ``sparse``\n",
      " |  parameter)\n",
      " |  \n",
      " |  By default, the encoder derives the categories based on the unique values\n",
      " |  in each feature. Alternatively, you can also specify the `categories`\n",
      " |  manually.\n",
      " |  \n",
      " |  This encoding is needed for feeding categorical data to many scikit-learn\n",
      " |  estimators, notably linear models and SVMs with the standard kernels.\n",
      " |  \n",
      " |  Note: a one-hot encoding of y labels should use a LabelBinarizer\n",
      " |  instead.\n",
      " |  \n",
      " |  Read more in the :ref:`User Guide <preprocessing_categorical_features>`.\n",
      " |  \n",
      " |  Parameters\n",
      " |  ----------\n",
      " |  categories : 'auto' or a list of array-like, default='auto'\n",
      " |      Categories (unique values) per feature:\n",
      " |  \n",
      " |      - 'auto' : Determine categories automatically from the training data.\n",
      " |      - list : ``categories[i]`` holds the categories expected in the ith\n",
      " |        column. The passed categories should not mix strings and numeric\n",
      " |        values within a single feature, and should be sorted in case of\n",
      " |        numeric values.\n",
      " |  \n",
      " |      The used categories can be found in the ``categories_`` attribute.\n",
      " |  \n",
      " |      .. versionadded:: 0.20\n",
      " |  \n",
      " |  drop : {'first', 'if_binary'} or an array-like of shape (n_features,),             default=None\n",
      " |      Specifies a methodology to use to drop one of the categories per\n",
      " |      feature. This is useful in situations where perfectly collinear\n",
      " |      features cause problems, such as when feeding the resulting data\n",
      " |      into an unregularized linear regression model.\n",
      " |  \n",
      " |      However, dropping one category breaks the symmetry of the original\n",
      " |      representation and can therefore induce a bias in downstream models,\n",
      " |      for instance for penalized linear classification or regression models.\n",
      " |  \n",
      " |      - None : retain all features (the default).\n",
      " |      - 'first' : drop the first category in each feature. If only one\n",
      " |        category is present, the feature will be dropped entirely.\n",
      " |      - 'if_binary' : drop the first category in each feature with two\n",
      " |        categories. Features with 1 or more than 2 categories are\n",
      " |        left intact.\n",
      " |      - array : ``drop[i]`` is the category in feature ``X[:, i]`` that\n",
      " |        should be dropped.\n",
      " |  \n",
      " |      .. versionadded:: 0.21\n",
      " |         The parameter `drop` was added in 0.21.\n",
      " |  \n",
      " |      .. versionchanged:: 0.23\n",
      " |         The option `drop='if_binary'` was added in 0.23.\n",
      " |  \n",
      " |      .. versionchanged:: 1.1\n",
      " |          Support for dropping infrequent categories.\n",
      " |  \n",
      " |  sparse : bool, default=True\n",
      " |      Will return sparse matrix if set True else will return an array.\n",
      " |  \n",
      " |  dtype : number type, default=float\n",
      " |      Desired dtype of output.\n",
      " |  \n",
      " |  handle_unknown : {'error', 'ignore', 'infrequent_if_exist'},                      default='error'\n",
      " |      Specifies the way unknown categories are handled during :meth:`transform`.\n",
      " |  \n",
      " |      - 'error' : Raise an error if an unknown category is present during transform.\n",
      " |      - 'ignore' : When an unknown category is encountered during\n",
      " |        transform, the resulting one-hot encoded columns for this feature\n",
      " |        will be all zeros. In the inverse transform, an unknown category\n",
      " |        will be denoted as None.\n",
      " |      - 'infrequent_if_exist' : When an unknown category is encountered\n",
      " |        during transform, the resulting one-hot encoded columns for this\n",
      " |        feature will map to the infrequent category if it exists. The\n",
      " |        infrequent category will be mapped to the last position in the\n",
      " |        encoding. During inverse transform, an unknown category will be\n",
      " |        mapped to the category denoted `'infrequent'` if it exists. If the\n",
      " |        `'infrequent'` category does not exist, then :meth:`transform` and\n",
      " |        :meth:`inverse_transform` will handle an unknown category as with\n",
      " |        `handle_unknown='ignore'`. Infrequent categories exist based on\n",
      " |        `min_frequency` and `max_categories`. Read more in the\n",
      " |        :ref:`User Guide <one_hot_encoder_infrequent_categories>`.\n",
      " |  \n",
      " |      .. versionchanged:: 1.1\n",
      " |          `'infrequent_if_exist'` was added to automatically handle unknown\n",
      " |          categories and infrequent categories.\n",
      " |  \n",
      " |  min_frequency : int or float, default=None\n",
      " |      Specifies the minimum frequency below which a category will be\n",
      " |      considered infrequent.\n",
      " |  \n",
      " |      - If `int`, categories with a smaller cardinality will be considered\n",
      " |        infrequent.\n",
      " |  \n",
      " |      - If `float`, categories with a smaller cardinality than\n",
      " |        `min_frequency * n_samples`  will be considered infrequent.\n",
      " |  \n",
      " |      .. versionadded:: 1.1\n",
      " |          Read more in the :ref:`User Guide <one_hot_encoder_infrequent_categories>`.\n",
      " |  \n",
      " |  max_categories : int, default=None\n",
      " |      Specifies an upper limit to the number of output features for each input\n",
      " |      feature when considering infrequent categories. If there are infrequent\n",
      " |      categories, `max_categories` includes the category representing the\n",
      " |      infrequent categories along with the frequent categories. If `None`,\n",
      " |      there is no limit to the number of output features.\n",
      " |  \n",
      " |      .. versionadded:: 1.1\n",
      " |          Read more in the :ref:`User Guide <one_hot_encoder_infrequent_categories>`.\n",
      " |  \n",
      " |  Attributes\n",
      " |  ----------\n",
      " |  categories_ : list of arrays\n",
      " |      The categories of each feature determined during fitting\n",
      " |      (in order of the features in X and corresponding with the output\n",
      " |      of ``transform``). This includes the category specified in ``drop``\n",
      " |      (if any).\n",
      " |  \n",
      " |  drop_idx_ : array of shape (n_features,)\n",
      " |      - ``drop_idx_[i]`` is the index in ``categories_[i]`` of the category\n",
      " |        to be dropped for each feature.\n",
      " |      - ``drop_idx_[i] = None`` if no category is to be dropped from the\n",
      " |        feature with index ``i``, e.g. when `drop='if_binary'` and the\n",
      " |        feature isn't binary.\n",
      " |      - ``drop_idx_ = None`` if all the transformed features will be\n",
      " |        retained.\n",
      " |  \n",
      " |      If infrequent categories are enabled by setting `min_frequency` or\n",
      " |      `max_categories` to a non-default value and `drop_idx[i]` corresponds\n",
      " |      to a infrequent category, then the entire infrequent category is\n",
      " |      dropped.\n",
      " |  \n",
      " |      .. versionchanged:: 0.23\n",
      " |         Added the possibility to contain `None` values.\n",
      " |  \n",
      " |  infrequent_categories_ : list of ndarray\n",
      " |      Defined only if infrequent categories are enabled by setting\n",
      " |      `min_frequency` or `max_categories` to a non-default value.\n",
      " |      `infrequent_categories_[i]` are the infrequent categories for feature\n",
      " |      `i`. If the feature `i` has no infrequent categories\n",
      " |      `infrequent_categories_[i]` is None.\n",
      " |  \n",
      " |      .. versionadded:: 1.1\n",
      " |  \n",
      " |  n_features_in_ : int\n",
      " |      Number of features seen during :term:`fit`.\n",
      " |  \n",
      " |      .. versionadded:: 1.0\n",
      " |  \n",
      " |  feature_names_in_ : ndarray of shape (`n_features_in_`,)\n",
      " |      Names of features seen during :term:`fit`. Defined only when `X`\n",
      " |      has feature names that are all strings.\n",
      " |  \n",
      " |      .. versionadded:: 1.0\n",
      " |  \n",
      " |  See Also\n",
      " |  --------\n",
      " |  OrdinalEncoder : Performs an ordinal (integer)\n",
      " |    encoding of the categorical features.\n",
      " |  sklearn.feature_extraction.DictVectorizer : Performs a one-hot encoding of\n",
      " |    dictionary items (also handles string-valued features).\n",
      " |  sklearn.feature_extraction.FeatureHasher : Performs an approximate one-hot\n",
      " |    encoding of dictionary items or strings.\n",
      " |  LabelBinarizer : Binarizes labels in a one-vs-all\n",
      " |    fashion.\n",
      " |  MultiLabelBinarizer : Transforms between iterable of\n",
      " |    iterables and a multilabel format, e.g. a (samples x classes) binary\n",
      " |    matrix indicating the presence of a class label.\n",
      " |  \n",
      " |  Examples\n",
      " |  --------\n",
      " |  Given a dataset with two features, we let the encoder find the unique\n",
      " |  values per feature and transform the data to a binary one-hot encoding.\n",
      " |  \n",
      " |  >>> from sklearn.preprocessing import OneHotEncoder\n",
      " |  \n",
      " |  One can discard categories not seen during `fit`:\n",
      " |  \n",
      " |  >>> enc = OneHotEncoder(handle_unknown='ignore')\n",
      " |  >>> X = [['Male', 1], ['Female', 3], ['Female', 2]]\n",
      " |  >>> enc.fit(X)\n",
      " |  OneHotEncoder(handle_unknown='ignore')\n",
      " |  >>> enc.categories_\n",
      " |  [array(['Female', 'Male'], dtype=object), array([1, 2, 3], dtype=object)]\n",
      " |  >>> enc.transform([['Female', 1], ['Male', 4]]).toarray()\n",
      " |  array([[1., 0., 1., 0., 0.],\n",
      " |         [0., 1., 0., 0., 0.]])\n",
      " |  >>> enc.inverse_transform([[0, 1, 1, 0, 0], [0, 0, 0, 1, 0]])\n",
      " |  array([['Male', 1],\n",
      " |         [None, 2]], dtype=object)\n",
      " |  >>> enc.get_feature_names_out(['gender', 'group'])\n",
      " |  array(['gender_Female', 'gender_Male', 'group_1', 'group_2', 'group_3'], ...)\n",
      " |  \n",
      " |  One can always drop the first column for each feature:\n",
      " |  \n",
      " |  >>> drop_enc = OneHotEncoder(drop='first').fit(X)\n",
      " |  >>> drop_enc.categories_\n",
      " |  [array(['Female', 'Male'], dtype=object), array([1, 2, 3], dtype=object)]\n",
      " |  >>> drop_enc.transform([['Female', 1], ['Male', 2]]).toarray()\n",
      " |  array([[0., 0., 0.],\n",
      " |         [1., 1., 0.]])\n",
      " |  \n",
      " |  Or drop a column for feature only having 2 categories:\n",
      " |  \n",
      " |  >>> drop_binary_enc = OneHotEncoder(drop='if_binary').fit(X)\n",
      " |  >>> drop_binary_enc.transform([['Female', 1], ['Male', 2]]).toarray()\n",
      " |  array([[0., 1., 0., 0.],\n",
      " |         [1., 0., 1., 0.]])\n",
      " |  \n",
      " |  Infrequent categories are enabled by setting `max_categories` or `min_frequency`.\n",
      " |  \n",
      " |  >>> import numpy as np\n",
      " |  >>> X = np.array([[\"a\"] * 5 + [\"b\"] * 20 + [\"c\"] * 10 + [\"d\"] * 3], dtype=object).T\n",
      " |  >>> ohe = OneHotEncoder(max_categories=3, sparse=False).fit(X)\n",
      " |  >>> ohe.infrequent_categories_\n",
      " |  [array(['a', 'd'], dtype=object)]\n",
      " |  >>> ohe.transform([[\"a\"], [\"b\"]])\n",
      " |  array([[0., 0., 1.],\n",
      " |         [1., 0., 0.]])\n",
      " |  \n",
      " |  Method resolution order:\n",
      " |      OurOneHotEncoder\n",
      " |      sklearn.preprocessing._encoders.OneHotEncoder\n",
      " |      sklearn.preprocessing._encoders._BaseEncoder\n",
      " |      sklearn.base.TransformerMixin\n",
      " |      sklearn.base.BaseEstimator\n",
      " |      builtins.object\n",
      " |  \n",
      " |  Methods inherited from sklearn.preprocessing._encoders.OneHotEncoder:\n",
      " |  \n",
      " |  __init__(self, *, categories='auto', drop=None, sparse=True, dtype=<class 'numpy.float64'>, handle_unknown='error', min_frequency=None, max_categories=None)\n",
      " |      Initialize self.  See help(type(self)) for accurate signature.\n",
      " |  \n",
      " |  fit(self, X, y=None)\n",
      " |      Fit OneHotEncoder to X.\n",
      " |      \n",
      " |      Parameters\n",
      " |      ----------\n",
      " |      X : array-like of shape (n_samples, n_features)\n",
      " |          The data to determine the categories of each feature.\n",
      " |      \n",
      " |      y : None\n",
      " |          Ignored. This parameter exists only for compatibility with\n",
      " |          :class:`~sklearn.pipeline.Pipeline`.\n",
      " |      \n",
      " |      Returns\n",
      " |      -------\n",
      " |      self\n",
      " |          Fitted encoder.\n",
      " |  \n",
      " |  fit_transform(self, X, y=None)\n",
      " |      Fit OneHotEncoder to X, then transform X.\n",
      " |      \n",
      " |      Equivalent to fit(X).transform(X) but more convenient.\n",
      " |      \n",
      " |      Parameters\n",
      " |      ----------\n",
      " |      X : array-like of shape (n_samples, n_features)\n",
      " |          The data to encode.\n",
      " |      \n",
      " |      y : None\n",
      " |          Ignored. This parameter exists only for compatibility with\n",
      " |          :class:`~sklearn.pipeline.Pipeline`.\n",
      " |      \n",
      " |      Returns\n",
      " |      -------\n",
      " |      X_out : {ndarray, sparse matrix} of shape                 (n_samples, n_encoded_features)\n",
      " |          Transformed input. If `sparse=True`, a sparse matrix will be\n",
      " |          returned.\n",
      " |  \n",
      " |  get_feature_names(self, input_features=None)\n",
      " |      DEPRECATED: get_feature_names is deprecated in 1.0 and will be removed in 1.2. Please use get_feature_names_out instead.\n",
      " |      \n",
      " |      Return feature names for output features.\n",
      " |      \n",
      " |          For a given input feature, if there is an infrequent category, the most\n",
      " |          'infrequent_sklearn' will be used as a feature name.\n",
      " |      \n",
      " |          Parameters\n",
      " |          ----------\n",
      " |          input_features : list of str of shape (n_features,)\n",
      " |              String names for input features if available. By default,\n",
      " |              \"x0\", \"x1\", ... \"xn_features\" is used.\n",
      " |      \n",
      " |          Returns\n",
      " |          -------\n",
      " |          output_feature_names : ndarray of shape (n_output_features,)\n",
      " |              Array of feature names.\n",
      " |  \n",
      " |  get_feature_names_out(self, input_features=None)\n",
      " |      Get output feature names for transformation.\n",
      " |      \n",
      " |      Parameters\n",
      " |      ----------\n",
      " |      input_features : array-like of str or None, default=None\n",
      " |          Input features.\n",
      " |      \n",
      " |          - If `input_features` is `None`, then `feature_names_in_` is\n",
      " |            used as feature names in. If `feature_names_in_` is not defined,\n",
      " |            then the following input feature names are generated:\n",
      " |            `[\"x0\", \"x1\", ..., \"x(n_features_in_ - 1)\"]`.\n",
      " |          - If `input_features` is an array-like, then `input_features` must\n",
      " |            match `feature_names_in_` if `feature_names_in_` is defined.\n",
      " |      \n",
      " |      Returns\n",
      " |      -------\n",
      " |      feature_names_out : ndarray of str objects\n",
      " |          Transformed feature names.\n",
      " |  \n",
      " |  inverse_transform(self, X)\n",
      " |      Convert the data back to the original representation.\n",
      " |      \n",
      " |      When unknown categories are encountered (all zeros in the\n",
      " |      one-hot encoding), ``None`` is used to represent this category. If the\n",
      " |      feature with the unknown category has a dropped category, the dropped\n",
      " |      category will be its inverse.\n",
      " |      \n",
      " |      For a given input feature, if there is an infrequent category,\n",
      " |      'infrequent_sklearn' will be used to represent the infrequent category.\n",
      " |      \n",
      " |      Parameters\n",
      " |      ----------\n",
      " |      X : {array-like, sparse matrix} of shape                 (n_samples, n_encoded_features)\n",
      " |          The transformed data.\n",
      " |      \n",
      " |      Returns\n",
      " |      -------\n",
      " |      X_tr : ndarray of shape (n_samples, n_features)\n",
      " |          Inverse transformed array.\n",
      " |  \n",
      " |  transform(self, X)\n",
      " |      Transform X using one-hot encoding.\n",
      " |      \n",
      " |      If there are infrequent categories for a feature, the infrequent\n",
      " |      categories will be grouped into a single category.\n",
      " |      \n",
      " |      Parameters\n",
      " |      ----------\n",
      " |      X : array-like of shape (n_samples, n_features)\n",
      " |          The data to encode.\n",
      " |      \n",
      " |      Returns\n",
      " |      -------\n",
      " |      X_out : {ndarray, sparse matrix} of shape                 (n_samples, n_encoded_features)\n",
      " |          Transformed input. If `sparse=True`, a sparse matrix will be\n",
      " |          returned.\n",
      " |  \n",
      " |  ----------------------------------------------------------------------\n",
      " |  Readonly properties inherited from sklearn.preprocessing._encoders.OneHotEncoder:\n",
      " |  \n",
      " |  infrequent_categories_\n",
      " |      Infrequent categories for each feature.\n",
      " |  \n",
      " |  ----------------------------------------------------------------------\n",
      " |  Data descriptors inherited from sklearn.base.TransformerMixin:\n",
      " |  \n",
      " |  __dict__\n",
      " |      dictionary for instance variables (if defined)\n",
      " |  \n",
      " |  __weakref__\n",
      " |      list of weak references to the object (if defined)\n",
      " |  \n",
      " |  ----------------------------------------------------------------------\n",
      " |  Methods inherited from sklearn.base.BaseEstimator:\n",
      " |  \n",
      " |  __getstate__(self)\n",
      " |  \n",
      " |  __repr__(self, N_CHAR_MAX=700)\n",
      " |      Return repr(self).\n",
      " |  \n",
      " |  __setstate__(self, state)\n",
      " |  \n",
      " |  get_params(self, deep=True)\n",
      " |      Get parameters for this estimator.\n",
      " |      \n",
      " |      Parameters\n",
      " |      ----------\n",
      " |      deep : bool, default=True\n",
      " |          If True, will return the parameters for this estimator and\n",
      " |          contained subobjects that are estimators.\n",
      " |      \n",
      " |      Returns\n",
      " |      -------\n",
      " |      params : dict\n",
      " |          Parameter names mapped to their values.\n",
      " |  \n",
      " |  set_params(self, **params)\n",
      " |      Set the parameters of this estimator.\n",
      " |      \n",
      " |      The method works on simple estimators as well as on nested objects\n",
      " |      (such as :class:`~sklearn.pipeline.Pipeline`). The latter have\n",
      " |      parameters of the form ``<component>__<parameter>`` so that it's\n",
      " |      possible to update each component of a nested object.\n",
      " |      \n",
      " |      Parameters\n",
      " |      ----------\n",
      " |      **params : dict\n",
      " |          Estimator parameters.\n",
      " |      \n",
      " |      Returns\n",
      " |      -------\n",
      " |      self : estimator instance\n",
      " |          Estimator instance.\n",
      "\n"
     ]
    }
   ],
   "source": [
    "help(OurOneHotEncoder)"
   ]
  },
  {
   "cell_type": "markdown",
   "metadata": {
    "id": "xx9SSiNdPpyV"
   },
   "source": [
    "### Add a method to transform the data as a dataframe."
   ]
  },
  {
   "cell_type": "code",
   "execution_count": 48,
   "metadata": {
    "ExecuteTime": {
     "end_time": "2021-04-27T15:32:43.422096Z",
     "start_time": "2021-04-27T15:32:43.419146Z"
    },
    "id": "RQ8j0uVIPpyV"
   },
   "outputs": [],
   "source": [
    "\n",
    "def transform_as_df(self,X,orig_features):\n",
    "    data_ohe = self.transform(X)\n",
    "    df_ohe = pd.DataFrame(data_ohe,\n",
    "                        columns = encoder.get_feature_names(orig_features))\n",
    "    return df_ohe\n",
    "    \n",
    "OurOneHotEncoder.transform_as_df = transform_as_df\n"
   ]
  },
  {
   "cell_type": "code",
   "execution_count": 49,
   "metadata": {},
   "outputs": [],
   "source": [
    "class OurOneHotEncoder(OneHotEncoder):\n",
    "    def transform_as_df(self,X,orig_features):\n",
    "        data_ohe = self.transform(X)\n",
    "        df_ohe = pd.DataFrame(data_ohe,\n",
    "                            columns = encoder.get_feature_names(orig_features))\n",
    "        return df_ohe"
   ]
  },
  {
   "cell_type": "code",
   "execution_count": 50,
   "metadata": {
    "ExecuteTime": {
     "end_time": "2021-04-27T15:33:03.244172Z",
     "start_time": "2021-04-27T15:33:03.215042Z"
    },
    "colab": {
     "base_uri": "https://localhost:8080/",
     "height": 592
    },
    "id": "3vnORaVEPpyV",
    "outputId": "78019637-b010-49a4-d9d0-f26b2244dc82"
   },
   "outputs": [
    {
     "name": "stderr",
     "output_type": "stream",
     "text": [
      "/opt/homebrew/Caskroom/miniforge/base/envs/dojo-env/lib/python3.8/site-packages/sklearn/utils/deprecation.py:87: FutureWarning: Function get_feature_names is deprecated; get_feature_names is deprecated in 1.0 and will be removed in 1.2. Please use get_feature_names_out instead.\n",
      "  warnings.warn(msg, category=FutureWarning)\n"
     ]
    },
    {
     "data": {
      "text/html": [
       "<div>\n",
       "<style scoped>\n",
       "    .dataframe tbody tr th:only-of-type {\n",
       "        vertical-align: middle;\n",
       "    }\n",
       "\n",
       "    .dataframe tbody tr th {\n",
       "        vertical-align: top;\n",
       "    }\n",
       "\n",
       "    .dataframe thead th {\n",
       "        text-align: right;\n",
       "    }\n",
       "</style>\n",
       "<table border=\"1\" class=\"dataframe\">\n",
       "  <thead>\n",
       "    <tr style=\"text-align: right;\">\n",
       "      <th></th>\n",
       "      <th>Release Type_Discharged - Expiration of Sentence</th>\n",
       "      <th>Release Type_Discharged – End of Sentence</th>\n",
       "      <th>Release Type_Interstate Compact Parole</th>\n",
       "      <th>Release Type_MISSING</th>\n",
       "      <th>Release Type_Parole</th>\n",
       "      <th>Release Type_Parole Granted</th>\n",
       "      <th>Release Type_Paroled to Detainer - INS</th>\n",
       "      <th>Release Type_Paroled to Detainer - Iowa</th>\n",
       "      <th>Release Type_Paroled to Detainer - Out of State</th>\n",
       "      <th>Release Type_Paroled to Detainer - U.S. Marshall</th>\n",
       "      <th>Release Type_Paroled w/Immediate Discharge</th>\n",
       "      <th>Release Type_Released to Special Sentence</th>\n",
       "      <th>Release Type_Special Sentence</th>\n",
       "    </tr>\n",
       "  </thead>\n",
       "  <tbody>\n",
       "    <tr>\n",
       "      <th>0</th>\n",
       "      <td>0.0</td>\n",
       "      <td>0.0</td>\n",
       "      <td>0.0</td>\n",
       "      <td>0.0</td>\n",
       "      <td>1.0</td>\n",
       "      <td>0.0</td>\n",
       "      <td>0.0</td>\n",
       "      <td>0.0</td>\n",
       "      <td>0.0</td>\n",
       "      <td>0.0</td>\n",
       "      <td>0.0</td>\n",
       "      <td>0.0</td>\n",
       "      <td>0.0</td>\n",
       "    </tr>\n",
       "    <tr>\n",
       "      <th>1</th>\n",
       "      <td>0.0</td>\n",
       "      <td>1.0</td>\n",
       "      <td>0.0</td>\n",
       "      <td>0.0</td>\n",
       "      <td>0.0</td>\n",
       "      <td>0.0</td>\n",
       "      <td>0.0</td>\n",
       "      <td>0.0</td>\n",
       "      <td>0.0</td>\n",
       "      <td>0.0</td>\n",
       "      <td>0.0</td>\n",
       "      <td>0.0</td>\n",
       "      <td>0.0</td>\n",
       "    </tr>\n",
       "    <tr>\n",
       "      <th>2</th>\n",
       "      <td>0.0</td>\n",
       "      <td>0.0</td>\n",
       "      <td>0.0</td>\n",
       "      <td>0.0</td>\n",
       "      <td>1.0</td>\n",
       "      <td>0.0</td>\n",
       "      <td>0.0</td>\n",
       "      <td>0.0</td>\n",
       "      <td>0.0</td>\n",
       "      <td>0.0</td>\n",
       "      <td>0.0</td>\n",
       "      <td>0.0</td>\n",
       "      <td>0.0</td>\n",
       "    </tr>\n",
       "    <tr>\n",
       "      <th>3</th>\n",
       "      <td>0.0</td>\n",
       "      <td>0.0</td>\n",
       "      <td>0.0</td>\n",
       "      <td>0.0</td>\n",
       "      <td>1.0</td>\n",
       "      <td>0.0</td>\n",
       "      <td>0.0</td>\n",
       "      <td>0.0</td>\n",
       "      <td>0.0</td>\n",
       "      <td>0.0</td>\n",
       "      <td>0.0</td>\n",
       "      <td>0.0</td>\n",
       "      <td>0.0</td>\n",
       "    </tr>\n",
       "    <tr>\n",
       "      <th>4</th>\n",
       "      <td>0.0</td>\n",
       "      <td>1.0</td>\n",
       "      <td>0.0</td>\n",
       "      <td>0.0</td>\n",
       "      <td>0.0</td>\n",
       "      <td>0.0</td>\n",
       "      <td>0.0</td>\n",
       "      <td>0.0</td>\n",
       "      <td>0.0</td>\n",
       "      <td>0.0</td>\n",
       "      <td>0.0</td>\n",
       "      <td>0.0</td>\n",
       "      <td>0.0</td>\n",
       "    </tr>\n",
       "    <tr>\n",
       "      <th>...</th>\n",
       "      <td>...</td>\n",
       "      <td>...</td>\n",
       "      <td>...</td>\n",
       "      <td>...</td>\n",
       "      <td>...</td>\n",
       "      <td>...</td>\n",
       "      <td>...</td>\n",
       "      <td>...</td>\n",
       "      <td>...</td>\n",
       "      <td>...</td>\n",
       "      <td>...</td>\n",
       "      <td>...</td>\n",
       "      <td>...</td>\n",
       "    </tr>\n",
       "    <tr>\n",
       "      <th>26015</th>\n",
       "      <td>0.0</td>\n",
       "      <td>0.0</td>\n",
       "      <td>0.0</td>\n",
       "      <td>0.0</td>\n",
       "      <td>0.0</td>\n",
       "      <td>0.0</td>\n",
       "      <td>1.0</td>\n",
       "      <td>0.0</td>\n",
       "      <td>0.0</td>\n",
       "      <td>0.0</td>\n",
       "      <td>0.0</td>\n",
       "      <td>0.0</td>\n",
       "      <td>0.0</td>\n",
       "    </tr>\n",
       "    <tr>\n",
       "      <th>26016</th>\n",
       "      <td>0.0</td>\n",
       "      <td>0.0</td>\n",
       "      <td>0.0</td>\n",
       "      <td>0.0</td>\n",
       "      <td>0.0</td>\n",
       "      <td>0.0</td>\n",
       "      <td>0.0</td>\n",
       "      <td>0.0</td>\n",
       "      <td>0.0</td>\n",
       "      <td>0.0</td>\n",
       "      <td>0.0</td>\n",
       "      <td>1.0</td>\n",
       "      <td>0.0</td>\n",
       "    </tr>\n",
       "    <tr>\n",
       "      <th>26017</th>\n",
       "      <td>0.0</td>\n",
       "      <td>0.0</td>\n",
       "      <td>0.0</td>\n",
       "      <td>0.0</td>\n",
       "      <td>0.0</td>\n",
       "      <td>1.0</td>\n",
       "      <td>0.0</td>\n",
       "      <td>0.0</td>\n",
       "      <td>0.0</td>\n",
       "      <td>0.0</td>\n",
       "      <td>0.0</td>\n",
       "      <td>0.0</td>\n",
       "      <td>0.0</td>\n",
       "    </tr>\n",
       "    <tr>\n",
       "      <th>26018</th>\n",
       "      <td>0.0</td>\n",
       "      <td>0.0</td>\n",
       "      <td>0.0</td>\n",
       "      <td>0.0</td>\n",
       "      <td>0.0</td>\n",
       "      <td>0.0</td>\n",
       "      <td>0.0</td>\n",
       "      <td>0.0</td>\n",
       "      <td>0.0</td>\n",
       "      <td>0.0</td>\n",
       "      <td>1.0</td>\n",
       "      <td>0.0</td>\n",
       "      <td>0.0</td>\n",
       "    </tr>\n",
       "    <tr>\n",
       "      <th>26019</th>\n",
       "      <td>0.0</td>\n",
       "      <td>0.0</td>\n",
       "      <td>0.0</td>\n",
       "      <td>0.0</td>\n",
       "      <td>0.0</td>\n",
       "      <td>0.0</td>\n",
       "      <td>0.0</td>\n",
       "      <td>0.0</td>\n",
       "      <td>1.0</td>\n",
       "      <td>0.0</td>\n",
       "      <td>0.0</td>\n",
       "      <td>0.0</td>\n",
       "      <td>0.0</td>\n",
       "    </tr>\n",
       "  </tbody>\n",
       "</table>\n",
       "<p>26020 rows × 13 columns</p>\n",
       "</div>"
      ],
      "text/plain": [
       "       Release Type_Discharged - Expiration of Sentence  \\\n",
       "0                                                   0.0   \n",
       "1                                                   0.0   \n",
       "2                                                   0.0   \n",
       "3                                                   0.0   \n",
       "4                                                   0.0   \n",
       "...                                                 ...   \n",
       "26015                                               0.0   \n",
       "26016                                               0.0   \n",
       "26017                                               0.0   \n",
       "26018                                               0.0   \n",
       "26019                                               0.0   \n",
       "\n",
       "       Release Type_Discharged – End of Sentence  \\\n",
       "0                                            0.0   \n",
       "1                                            1.0   \n",
       "2                                            0.0   \n",
       "3                                            0.0   \n",
       "4                                            1.0   \n",
       "...                                          ...   \n",
       "26015                                        0.0   \n",
       "26016                                        0.0   \n",
       "26017                                        0.0   \n",
       "26018                                        0.0   \n",
       "26019                                        0.0   \n",
       "\n",
       "       Release Type_Interstate Compact Parole  Release Type_MISSING  \\\n",
       "0                                         0.0                   0.0   \n",
       "1                                         0.0                   0.0   \n",
       "2                                         0.0                   0.0   \n",
       "3                                         0.0                   0.0   \n",
       "4                                         0.0                   0.0   \n",
       "...                                       ...                   ...   \n",
       "26015                                     0.0                   0.0   \n",
       "26016                                     0.0                   0.0   \n",
       "26017                                     0.0                   0.0   \n",
       "26018                                     0.0                   0.0   \n",
       "26019                                     0.0                   0.0   \n",
       "\n",
       "       Release Type_Parole  Release Type_Parole Granted  \\\n",
       "0                      1.0                          0.0   \n",
       "1                      0.0                          0.0   \n",
       "2                      1.0                          0.0   \n",
       "3                      1.0                          0.0   \n",
       "4                      0.0                          0.0   \n",
       "...                    ...                          ...   \n",
       "26015                  0.0                          0.0   \n",
       "26016                  0.0                          0.0   \n",
       "26017                  0.0                          1.0   \n",
       "26018                  0.0                          0.0   \n",
       "26019                  0.0                          0.0   \n",
       "\n",
       "       Release Type_Paroled to Detainer - INS  \\\n",
       "0                                         0.0   \n",
       "1                                         0.0   \n",
       "2                                         0.0   \n",
       "3                                         0.0   \n",
       "4                                         0.0   \n",
       "...                                       ...   \n",
       "26015                                     1.0   \n",
       "26016                                     0.0   \n",
       "26017                                     0.0   \n",
       "26018                                     0.0   \n",
       "26019                                     0.0   \n",
       "\n",
       "       Release Type_Paroled to Detainer - Iowa  \\\n",
       "0                                          0.0   \n",
       "1                                          0.0   \n",
       "2                                          0.0   \n",
       "3                                          0.0   \n",
       "4                                          0.0   \n",
       "...                                        ...   \n",
       "26015                                      0.0   \n",
       "26016                                      0.0   \n",
       "26017                                      0.0   \n",
       "26018                                      0.0   \n",
       "26019                                      0.0   \n",
       "\n",
       "       Release Type_Paroled to Detainer - Out of State  \\\n",
       "0                                                  0.0   \n",
       "1                                                  0.0   \n",
       "2                                                  0.0   \n",
       "3                                                  0.0   \n",
       "4                                                  0.0   \n",
       "...                                                ...   \n",
       "26015                                              0.0   \n",
       "26016                                              0.0   \n",
       "26017                                              0.0   \n",
       "26018                                              0.0   \n",
       "26019                                              1.0   \n",
       "\n",
       "       Release Type_Paroled to Detainer - U.S. Marshall  \\\n",
       "0                                                   0.0   \n",
       "1                                                   0.0   \n",
       "2                                                   0.0   \n",
       "3                                                   0.0   \n",
       "4                                                   0.0   \n",
       "...                                                 ...   \n",
       "26015                                               0.0   \n",
       "26016                                               0.0   \n",
       "26017                                               0.0   \n",
       "26018                                               0.0   \n",
       "26019                                               0.0   \n",
       "\n",
       "       Release Type_Paroled w/Immediate Discharge  \\\n",
       "0                                             0.0   \n",
       "1                                             0.0   \n",
       "2                                             0.0   \n",
       "3                                             0.0   \n",
       "4                                             0.0   \n",
       "...                                           ...   \n",
       "26015                                         0.0   \n",
       "26016                                         0.0   \n",
       "26017                                         0.0   \n",
       "26018                                         1.0   \n",
       "26019                                         0.0   \n",
       "\n",
       "       Release Type_Released to Special Sentence  \\\n",
       "0                                            0.0   \n",
       "1                                            0.0   \n",
       "2                                            0.0   \n",
       "3                                            0.0   \n",
       "4                                            0.0   \n",
       "...                                          ...   \n",
       "26015                                        0.0   \n",
       "26016                                        1.0   \n",
       "26017                                        0.0   \n",
       "26018                                        0.0   \n",
       "26019                                        0.0   \n",
       "\n",
       "       Release Type_Special Sentence  \n",
       "0                                0.0  \n",
       "1                                0.0  \n",
       "2                                0.0  \n",
       "3                                0.0  \n",
       "4                                0.0  \n",
       "...                              ...  \n",
       "26015                            0.0  \n",
       "26016                            0.0  \n",
       "26017                            0.0  \n",
       "26018                            0.0  \n",
       "26019                            0.0  \n",
       "\n",
       "[26020 rows x 13 columns]"
      ]
     },
     "execution_count": 50,
     "metadata": {},
     "output_type": "execute_result"
    }
   ],
   "source": [
    "cols_to_encode = ['Release Type']\n",
    "\n",
    "encoder = OurOneHotEncoder(sparse=False).fit(df[cols_to_encode])\n",
    "data_ohe = encoder.transform_as_df(df[cols_to_encode],cols_to_encode)\n",
    "data_ohe"
   ]
  },
  {
   "cell_type": "markdown",
   "metadata": {
    "id": "AqPpGvkAPpyV"
   },
   "source": [
    "# Bonus: decorators"
   ]
  },
  {
   "cell_type": "code",
   "execution_count": 60,
   "metadata": {},
   "outputs": [
    {
     "data": {
      "application/vnd.jupyter.widget-view+json": {
       "model_id": "684fcff3421a46be8ada4aeac9249a46",
       "version_major": 2,
       "version_minor": 0
      },
      "text/plain": [
       "interactive(children=(IntSlider(value=25, description='index', max=51), Output()), _dom_classes=('widget-inter…"
      ]
     },
     "metadata": {},
     "output_type": "display_data"
    }
   ],
   "source": [
    "from ipywidgets import interact\n",
    "\n",
    "@interact\n",
    "def grab_card(index=(0,51)):\n",
    "    display(deck[index].flip())"
   ]
  },
  {
   "cell_type": "code",
   "execution_count": 56,
   "metadata": {},
   "outputs": [
    {
     "name": "stdout",
     "output_type": "stream",
     "text": [
      "┌─────────┐\n",
      "│8        │\n",
      "│         │\n",
      "│         │\n",
      "│    ♥️   │\n",
      "│         │\n",
      "│         │\n",
      "│        8│\n",
      "└─────────┘\n"
     ]
    },
    {
     "data": {
      "text/plain": [
       "None"
      ]
     },
     "metadata": {},
     "output_type": "display_data"
    }
   ],
   "source": [
    "grab_card(11)"
   ]
  },
  {
   "cell_type": "code",
   "execution_count": null,
   "metadata": {},
   "outputs": [],
   "source": []
  }
 ],
 "metadata": {
  "colab": {
   "collapsed_sections": [],
   "include_colab_link": true,
   "name": "OOP_playing_cards_instructor.ipynb",
   "provenance": [],
   "toc_visible": true
  },
  "interpreter": {
   "hash": "c15d3b161d9e31d3c14101c293414707f40e59d6cae0bbd6b708ca3d1e942f6f"
  },
  "kernelspec": {
   "display_name": "Python (dojo-env)",
   "language": "python",
   "name": "dojo-env"
  },
  "language_info": {
   "codemirror_mode": {
    "name": "ipython",
    "version": 3
   },
   "file_extension": ".py",
   "mimetype": "text/x-python",
   "name": "python",
   "nbconvert_exporter": "python",
   "pygments_lexer": "ipython3",
   "version": "3.8.13"
  },
  "toc": {
   "base_numbering": 1,
   "nav_menu": {},
   "number_sections": false,
   "sideBar": true,
   "skip_h1_title": false,
   "title_cell": "Table of Contents",
   "title_sidebar": "Contents",
   "toc_cell": false,
   "toc_position": {
    "height": "calc(100% - 180px)",
    "left": "10px",
    "top": "150px",
    "width": "256px"
   },
   "toc_section_display": true,
   "toc_window_display": true
  }
 },
 "nbformat": 4,
 "nbformat_minor": 1
}
