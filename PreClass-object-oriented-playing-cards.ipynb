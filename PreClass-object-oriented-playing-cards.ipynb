{
 "cells": [
  {
   "cell_type": "markdown",
   "metadata": {
    "id": "96UgJeWLPpyG"
   },
   "source": [
    "# Object-Oriented Playing Cards"
   ]
  },
  {
   "cell_type": "markdown",
   "metadata": {
    "id": "6AZh3d2hPpyJ"
   },
   "source": [
    "## Topics"
   ]
  },
  {
   "cell_type": "markdown",
   "metadata": {
    "ExecuteTime": {
     "end_time": "2020-03-04T22:48:55.304853Z",
     "start_time": "2020-03-04T22:48:55.299479Z"
    },
    "id": "jBulbLFXPpyJ"
   },
   "source": [
    "- **Defining/Initializing Classes**\n",
    "- **Inspecting classes:**\n",
    "    - `help(obj)` vs `dir(obj)`\n",
    "    \n",
    "- **Deeper dive into Classes/Objects**\n",
    "    - special methods/properties (`__repr__(),__str__(),__call__(),__version__(),__name__()`)\n",
    "    - Methods: vs Bound Methods vs Static Methods \n",
    "    \n",
    "- **Extended Activity: Building a Deck of PlayingCards**"
   ]
  },
  {
   "cell_type": "markdown",
   "metadata": {
    "id": "5u8wXrwuPpyJ"
   },
   "source": [
    "# What does it mean to be 'Object-Oriented'?\n",
    "\n",
    "> ### ___\"Everything is an object.\"___\n",
    "- some Python sensei\n"
   ]
  },
  {
   "cell_type": "markdown",
   "metadata": {
    "id": "pySAKG0dPpyK"
   },
   "source": [
    "- Any function, method, class, variable are ALL objects. \n",
    "    - Built from a template Class\n",
    "    - Can be stored in memory under any name "
   ]
  },
  {
   "cell_type": "code",
   "execution_count": null,
   "metadata": {
    "ExecuteTime": {
     "end_time": "2021-04-27T15:01:01.958865Z",
     "start_time": "2021-04-27T15:01:01.948153Z"
    },
    "colab": {
     "base_uri": "https://localhost:8080/"
    },
    "id": "idKF4XGLPpyK",
    "outputId": "9a15626c-054f-4484-8ca1-b8e65f1c64a3"
   },
   "outputs": [],
   "source": [
    "## Any function can be assigned to a new variable and will behave the same way\n",
    "prove_it = None\n",
    "prove_it"
   ]
  },
  {
   "cell_type": "code",
   "execution_count": null,
   "metadata": {
    "ExecuteTime": {
     "end_time": "2021-04-27T15:01:01.965741Z",
     "start_time": "2021-04-27T15:01:01.961924Z"
    },
    "colab": {
     "base_uri": "https://localhost:8080/"
    },
    "id": "JM1c8TXUPpyL",
    "outputId": "00a53a51-6c0f-4242-b84e-13fcee1a38ff"
   },
   "outputs": [],
   "source": [
    "# test our \"prove_it\" functon\n",
    "prove_it(\"This is now equal to print.\")"
   ]
  },
  {
   "cell_type": "code",
   "execution_count": null,
   "metadata": {
    "ExecuteTime": {
     "end_time": "2021-04-27T15:01:01.972776Z",
     "start_time": "2021-04-27T15:01:01.969224Z"
    },
    "colab": {
     "base_uri": "https://localhost:8080/"
    },
    "id": "gkRxbutJPpyM",
    "outputId": "06b2a83c-5552-4d69-e506-6f491e44894f"
   },
   "outputs": [],
   "source": [
    "# run help on prove_it\n"
   ]
  },
  {
   "cell_type": "code",
   "execution_count": null,
   "metadata": {
    "ExecuteTime": {
     "end_time": "2021-04-27T15:01:01.979311Z",
     "start_time": "2021-04-27T15:01:01.975128Z"
    },
    "colab": {
     "base_uri": "https://localhost:8080/",
     "height": 35
    },
    "id": "mOiB7HD3PpyM",
    "outputId": "af49836f-ebe9-4a5d-f161-31215da18d07"
   },
   "outputs": [],
   "source": [
    "## what is the __name__ of our function?\n",
    "prove_it.__name__"
   ]
  },
  {
   "cell_type": "markdown",
   "metadata": {
    "id": "TGx9MFCFPpyM"
   },
   "source": [
    "# Reviewing Functions"
   ]
  },
  {
   "cell_type": "markdown",
   "metadata": {
    "ExecuteTime": {
     "end_time": "2020-03-04T22:50:13.264632Z",
     "start_time": "2020-03-04T22:50:13.257093Z"
    },
    "id": "YVHOV5TXPpyN"
   },
   "source": [
    "#### VOCAB RELATED TO FUNCTIONS:\n",
    "\n",
    "- **Function: A resuable, fleixbile block of code that runs a process**  \n",
    "\n",
    "    - Parameters: inputs that are expected by python/that function\n",
    "    \n",
    "    - Argument: the actual value/variable passed into the function. \n",
    "        - Positional Argument:\n",
    "        - Keyword/default Arguments:\n",
    "\n",
    "- \"Calling\" a function: `( )`"
   ]
  },
  {
   "cell_type": "code",
   "execution_count": null,
   "metadata": {
    "ExecuteTime": {
     "end_time": "2021-04-27T15:01:01.985191Z",
     "start_time": "2021-04-27T15:01:01.982055Z"
    },
    "id": "sWDkXoLtPpyN"
   },
   "outputs": [],
   "source": [
    "def my_func(posarg1, \n",
    "            posarg2, kwarg1='example',kwarg2='example2'):\n",
    "    print('positional arguments:')\n",
    "    print(f\"    {posarg1}, {posarg2}\")\n",
    "    \n",
    "    print(\"keyword arguments:\")\n",
    "    print(f\"    kwarg1={kwarg1}\")\n",
    "    print(f\"    kwarg2={kwarg2}\")"
   ]
  },
  {
   "cell_type": "code",
   "execution_count": null,
   "metadata": {
    "ExecuteTime": {
     "end_time": "2021-04-27T15:01:01.992219Z",
     "start_time": "2021-04-27T15:01:01.988245Z"
    },
    "colab": {
     "base_uri": "https://localhost:8080/"
    },
    "id": "_tCv8OdmPpyN",
    "outputId": "5a2e068c-63e8-45c0-d1ed-7bcd9e24d392"
   },
   "outputs": [],
   "source": [
    "## What does my_func look like?\n",
    "my_func"
   ]
  },
  {
   "cell_type": "code",
   "execution_count": null,
   "metadata": {
    "ExecuteTime": {
     "end_time": "2021-04-27T15:01:01.998825Z",
     "start_time": "2021-04-27T15:01:01.995679Z"
    },
    "colab": {
     "base_uri": "https://localhost:8080/"
    },
    "id": "Hgntu_pnPpyO",
    "outputId": "1730409e-3d21-4444-998e-f6eb9f183443"
   },
   "outputs": [],
   "source": [
    "## Run my_func with posarg1=1,posarg2=2\n",
    "my_func(1,2)"
   ]
  },
  {
   "cell_type": "code",
   "execution_count": null,
   "metadata": {
    "ExecuteTime": {
     "end_time": "2021-04-27T15:01:02.004266Z",
     "start_time": "2021-04-27T15:01:02.000751Z"
    },
    "colab": {
     "base_uri": "https://localhost:8080/"
    },
    "id": "yKojdLTiPpyO",
    "outputId": "097ad8af-675e-4b4e-bd14-2b050773db0e"
   },
   "outputs": [],
   "source": [
    "## Change kwarg1 to something else\n",
    "my_func(1,2,kwarg1='something else')"
   ]
  },
  {
   "cell_type": "markdown",
   "metadata": {
    "id": "0mjvmWDhPpyO"
   },
   "source": [
    "# Defining and Initializing Classes\n"
   ]
  },
  {
   "cell_type": "markdown",
   "metadata": {
    "id": "3-J9nHv4PpyO"
   },
   "source": [
    "- Use `class NewClassName():` like you use `def function_name():` for functions.\n",
    "    - the `()` are optional for classes. (used to inherit other classes, more on that later)"
   ]
  },
  {
   "cell_type": "markdown",
   "metadata": {
    "id": "blEJFW7BPpyP"
   },
   "source": [
    "#### Naming Classes\n",
    "    \n",
    "- Convention for naming classes = `UpperCamelCase`\n",
    "- Convention for naming function = `snake_case`"
   ]
  },
  {
   "cell_type": "code",
   "execution_count": null,
   "metadata": {
    "ExecuteTime": {
     "end_time": "2021-04-27T15:01:02.009897Z",
     "start_time": "2021-04-27T15:01:02.007177Z"
    },
    "id": "msp5lZ2uPpyP"
   },
   "outputs": [],
   "source": [
    "## Bare minimum to define a class.\n"
   ]
  },
  {
   "cell_type": "markdown",
   "metadata": {
    "id": "HW-QL6W1PpyP"
   },
   "source": [
    "## Attributes and Methods"
   ]
  },
  {
   "cell_type": "markdown",
   "metadata": {
    "id": "u4oLS1MDPpyP"
   },
   "source": [
    "- Attribute: a variable is stored inside a class/object\n",
    "\n",
    "- Method: a function that is stored inside of and (usually) operates on the object/class"
   ]
  },
  {
   "cell_type": "markdown",
   "metadata": {
    "id": "teIl9SquPpyP"
   },
   "source": [
    "## What makes a PlayingCard?"
   ]
  },
  {
   "cell_type": "markdown",
   "metadata": {
    "id": "WB7-qsnlPpyP"
   },
   "source": [
    "***Card:***\n",
    "- *Value / Name*:\n",
    "    - 2, 3, 4, 5, 6, 7, 8, 9, 10, J, Q, K, A\n",
    "- *Suit*:\n",
    "    - Hearts (H), Spades(S), Clubs(C), Diamonds(D) \n",
    "- *Color*:\n",
    "    - black or red"
   ]
  },
  {
   "cell_type": "code",
   "execution_count": null,
   "metadata": {
    "ExecuteTime": {
     "end_time": "2021-04-27T15:01:02.015884Z",
     "start_time": "2021-04-27T15:01:02.012877Z"
    },
    "id": "bZHUwk2-PpyP"
   },
   "outputs": [],
   "source": [
    "## Make a new PlayingCard class with a value of 2 and a suit of spades, and color=black\n"
   ]
  },
  {
   "cell_type": "code",
   "execution_count": null,
   "metadata": {
    "ExecuteTime": {
     "end_time": "2021-04-27T15:01:02.021630Z",
     "start_time": "2021-04-27T15:01:02.018078Z"
    },
    "colab": {
     "base_uri": "https://localhost:8080/"
    },
    "id": "4ubf7hVVPpyP",
    "outputId": "3a339b74-4166-4e27-9900-f4474d9a2eb9"
   },
   "outputs": [],
   "source": [
    "## Make an instance of a PlayingCard and display it\n"
   ]
  },
  {
   "cell_type": "code",
   "execution_count": null,
   "metadata": {
    "ExecuteTime": {
     "end_time": "2021-04-27T15:01:02.028487Z",
     "start_time": "2021-04-27T15:01:02.025248Z"
    },
    "colab": {
     "base_uri": "https://localhost:8080/"
    },
    "id": "-gaS--BHPpyP",
    "outputId": "4dfb7301-cdc5-403c-bd1a-819b2a4c23f3"
   },
   "outputs": [],
   "source": [
    "## Print out the vard's value and suit in one statement\n"
   ]
  },
  {
   "cell_type": "markdown",
   "metadata": {
    "id": "s7CM4BHOPpyQ"
   },
   "source": [
    "> Improving our class: let's add a `.flip()` method that will print the value and suit. \n"
   ]
  },
  {
   "cell_type": "code",
   "execution_count": null,
   "metadata": {
    "ExecuteTime": {
     "end_time": "2021-04-27T15:01:02.033976Z",
     "start_time": "2021-04-27T15:01:02.031223Z"
    },
    "id": "78alXCTrPpyQ"
   },
   "outputs": [],
   "source": [
    "## Copy previous version of class and add the .flip method.\n"
   ]
  },
  {
   "cell_type": "code",
   "execution_count": null,
   "metadata": {
    "ExecuteTime": {
     "end_time": "2021-04-27T15:01:02.144233Z",
     "start_time": "2021-04-27T15:01:02.036057Z"
    },
    "colab": {
     "base_uri": "https://localhost:8080/",
     "height": 201
    },
    "id": "YYCZhdp7PpyQ",
    "outputId": "68606697-bf35-4529-fe74-3186dc55d163"
   },
   "outputs": [],
   "source": [
    "## Insantiate a playing card and run .flip()    \n"
   ]
  },
  {
   "cell_type": "markdown",
   "metadata": {
    "id": "GBl0CNDEPpyQ"
   },
   "source": [
    "> Ruh roh! What happened?! What does the error message mean?"
   ]
  },
  {
   "cell_type": "markdown",
   "metadata": {
    "id": "yasIP4HdPpyQ"
   },
   "source": [
    "### Know thy `self`"
   ]
  },
  {
   "cell_type": "markdown",
   "metadata": {
    "id": "ifLOPQviPpyQ"
   },
   "source": [
    "- Because Methods are designed to operate on the `object_its.attached_to()`, Python automatically gives every method a copy of instance its attached to, which we call `self`\n",
    "- We have to pass `self` as the first parameter for every method we make.\n",
    "- Otherwise it will think that the first thing we give it is actually itself. This will cause an *existential crisis** and corresponding error."
   ]
  },
  {
   "cell_type": "code",
   "execution_count": null,
   "metadata": {
    "ExecuteTime": {
     "end_time": "2021-04-27T15:01:31.218684Z",
     "start_time": "2021-04-27T15:01:31.215643Z"
    },
    "id": "x5-relkMPpyQ"
   },
   "outputs": [],
   "source": [
    "## Update our class by adding self where its needed.\n",
    "\n",
    "        "
   ]
  },
  {
   "cell_type": "code",
   "execution_count": null,
   "metadata": {
    "ExecuteTime": {
     "end_time": "2021-04-27T15:01:31.223419Z",
     "start_time": "2021-04-27T15:01:31.220812Z"
    },
    "colab": {
     "base_uri": "https://localhost:8080/"
    },
    "id": "0jeEZCtQPpyQ",
    "outputId": "c7bc5083-0fd4-4137-8ee9-e93fd4e52ecd"
   },
   "outputs": [],
   "source": [
    "## Instantiate a playing card and test out .flip()\n"
   ]
  },
  {
   "cell_type": "markdown",
   "metadata": {
    "id": "PE5_vLdDPpyQ"
   },
   "source": [
    "## Initialization \n"
   ]
  },
  {
   "cell_type": "markdown",
   "metadata": {
    "id": "6Xg7SN5xPpyQ"
   },
   "source": [
    "- As we have seen, we create an instance by setting a `instance = ClassName()`\n",
    "-  This uses the template `ClassName` to create an instance of the class ( which we named `instance`).\n",
    "> - How do we change our PlayingCard class so that we can make other cards besides the 2 of spades?"
   ]
  },
  {
   "cell_type": "markdown",
   "metadata": {
    "id": "LXaUxSsSPpyQ"
   },
   "source": [
    "### `__init__`"
   ]
  },
  {
   "cell_type": "markdown",
   "metadata": {
    "id": "vbsNuDh8PpyQ"
   },
   "source": [
    "> - When an instance is `initialized`, we `call` it using `()`, which runs a default `__init__()` method."
   ]
  },
  {
   "cell_type": "code",
   "execution_count": null,
   "metadata": {
    "ExecuteTime": {
     "end_time": "2021-04-27T15:01:34.490863Z",
     "start_time": "2021-04-27T15:01:34.487488Z"
    },
    "id": "-9xjzMtOPpyQ"
   },
   "outputs": [],
   "source": [
    "## Update our class by adding an __init__ that controls value, suit, color\n",
    "\n",
    "        "
   ]
  },
  {
   "cell_type": "code",
   "execution_count": null,
   "metadata": {
    "ExecuteTime": {
     "end_time": "2021-04-27T15:01:35.498574Z",
     "start_time": "2021-04-27T15:01:35.495978Z"
    },
    "colab": {
     "base_uri": "https://localhost:8080/"
    },
    "id": "ThIY8pgMPpyR",
    "outputId": "acbd0b63-75e4-4f8c-aa69-469a50c02157"
   },
   "outputs": [],
   "source": [
    "## test out our updated playing card class by making  card1 = a 'J of Hearts'\n"
   ]
  },
  {
   "cell_type": "code",
   "execution_count": null,
   "metadata": {
    "ExecuteTime": {
     "end_time": "2021-04-27T15:01:36.571461Z",
     "start_time": "2021-04-27T15:01:36.568889Z"
    },
    "colab": {
     "base_uri": "https://localhost:8080/"
    },
    "id": "Qdk7zVFjPpyR",
    "outputId": "c326fbcc-1255-4f2e-f29a-c210c1c0b0e4"
   },
   "outputs": [],
   "source": [
    "## test out our updated playing card class by making a 7 of Spades\n"
   ]
  },
  {
   "cell_type": "markdown",
   "metadata": {
    "id": "defpb4HIPpyR"
   },
   "source": [
    "### is card 1 greater than card 2?"
   ]
  },
  {
   "cell_type": "code",
   "execution_count": null,
   "metadata": {
    "ExecuteTime": {
     "end_time": "2021-04-27T15:01:38.143611Z",
     "start_time": "2021-04-27T15:01:37.725482Z"
    },
    "colab": {
     "base_uri": "https://localhost:8080/",
     "height": 165
    },
    "id": "LecTBdzwPpyR",
    "outputId": "ab8ad217-1b32-40d1-ad39-957f6bd693d3"
   },
   "outputs": [],
   "source": []
  },
  {
   "cell_type": "markdown",
   "metadata": {
    "id": "BMTNqC8UPpyR"
   },
   "source": [
    "# Special Class Methods"
   ]
  },
  {
   "cell_type": "markdown",
   "metadata": {
    "id": "_afsxkE5PpyR"
   },
   "source": [
    "#### Special Methods\n",
    "\n",
    "It is common for a class to have magic methods. These are identifiable by the \"dunder\" (i.e. **d**ouble **under**score) prefixes and suffixes, such as `__init__()`. These methods will get called **automatically**, as we'll see below.\n",
    "\n",
    "For more on these \"magic methods\", see [here](https://www.geeksforgeeks.org/dunder-magic-methods-python/)."
   ]
  },
  {
   "cell_type": "markdown",
   "metadata": {
    "id": "K2VYc2BgPpyR"
   },
   "source": [
    "## Using Special Methods to evaluate comparisons "
   ]
  },
  {
   "cell_type": "markdown",
   "metadata": {
    "id": "5hcFxBfVPpyR"
   },
   "source": [
    "### `__gt__` & `__lt__`:\n"
   ]
  },
  {
   "cell_type": "code",
   "execution_count": null,
   "metadata": {
    "ExecuteTime": {
     "end_time": "2021-04-27T15:01:40.278234Z",
     "start_time": "2021-04-27T15:01:40.274280Z"
    },
    "id": "TQp5i1yePpyR"
   },
   "outputs": [],
   "source": [
    "## Add a __gt__ and __lt__ method to compare self to other\n"
   ]
  },
  {
   "cell_type": "code",
   "execution_count": null,
   "metadata": {
    "ExecuteTime": {
     "end_time": "2021-04-27T15:01:40.960843Z",
     "start_time": "2021-04-27T15:01:40.942059Z"
    },
    "colab": {
     "base_uri": "https://localhost:8080/",
     "height": 356
    },
    "id": "aAMU-3q_PpyR",
    "outputId": "2a54c8d9-98c0-48fa-ece4-3b2667f7fdbf"
   },
   "outputs": [],
   "source": [
    "## Remake card 1 and card2 and test if card1>card2\n"
   ]
  },
  {
   "cell_type": "markdown",
   "metadata": {
    "id": "YQ43ZQ9FPpyR"
   },
   "source": [
    "> - Ruh Roh! We can't compare a str and an int! Let's fix this with out `__init__ `\n",
    "\n"
   ]
  },
  {
   "cell_type": "markdown",
   "metadata": {
    "id": "CppcaGDZPpyR"
   },
   "source": [
    "#### Adding our card's value"
   ]
  },
  {
   "cell_type": "markdown",
   "metadata": {
    "id": "IAg1yiBjPpyR"
   },
   "source": [
    "- Create a string-based `name` for the card\n",
    "    - Update `.flip()` to use `name` instead of `value`\n",
    "- Save the numeric `value` of the card for comparison\n",
    "- "
   ]
  },
  {
   "cell_type": "code",
   "execution_count": null,
   "metadata": {
    "ExecuteTime": {
     "end_time": "2021-04-27T15:01:45.039095Z",
     "start_time": "2021-04-27T15:01:45.034578Z"
    },
    "colab": {
     "base_uri": "https://localhost:8080/"
    },
    "id": "nf2up9jtPpyR",
    "outputId": "2a8df532-8751-47a1-92af-0e63f2a83fe6"
   },
   "outputs": [],
   "source": [
    "## Value dictionary for lookup \n",
    "value_dct = {\n",
    "    '2': 2,'3': 3, '4': 4, '5': 5, '6': 6,\n",
    "    '7': 7, '8': 8, '9': 9, '10': 10,\n",
    "    'J': 11,'Q': 12, 'K': 13, 'A': 14\n",
    "    }\n",
    "value_dct"
   ]
  },
  {
   "cell_type": "code",
   "execution_count": null,
   "metadata": {
    "ExecuteTime": {
     "end_time": "2021-04-27T15:01:45.776196Z",
     "start_time": "2021-04-27T15:01:45.771336Z"
    },
    "id": "L5UXhpCnPpyR"
   },
   "outputs": [],
   "source": [
    "## Create a string-based name for the card\n",
    "# save the numeric value of the card for comparison\n"
   ]
  },
  {
   "cell_type": "code",
   "execution_count": null,
   "metadata": {
    "ExecuteTime": {
     "end_time": "2021-04-27T15:01:46.707298Z",
     "start_time": "2021-04-27T15:01:46.703231Z"
    },
    "colab": {
     "base_uri": "https://localhost:8080/"
    },
    "id": "y2rzl12KPpyS",
    "outputId": "c9504034-72a6-437f-8476-914eb9a69c12"
   },
   "outputs": [],
   "source": [
    "## Run this cell to test our value comparison from before\n",
    "card1 = PlayingCard('J','H')\n",
    "card1.flip()\n",
    "\n",
    "card2 = PlayingCard(7,'S')\n",
    "card2.flip()\n",
    "\n",
    "card1>card2"
   ]
  },
  {
   "cell_type": "code",
   "execution_count": null,
   "metadata": {
    "ExecuteTime": {
     "end_time": "2021-04-27T15:01:47.926058Z",
     "start_time": "2021-04-27T15:01:47.923201Z"
    },
    "colab": {
     "base_uri": "https://localhost:8080/"
    },
    "id": "RN9KZAthPpyS",
    "outputId": "7a2b4892-97d3-44ae-8f4f-b550bb647e28"
   },
   "outputs": [],
   "source": [
    "## What about card1<card2?\n",
    "card1<card2"
   ]
  },
  {
   "cell_type": "markdown",
   "metadata": {
    "id": "Q5DB-3zOPpyS"
   },
   "source": [
    "> Success! This is great and all, but the PlayingCard isn't terribly fun-looking "
   ]
  },
  {
   "cell_type": "code",
   "execution_count": null,
   "metadata": {
    "ExecuteTime": {
     "end_time": "2021-04-27T15:01:51.243766Z",
     "start_time": "2021-04-27T15:01:51.241003Z"
    },
    "colab": {
     "base_uri": "https://localhost:8080/"
    },
    "id": "lMB_ROUkPpyS",
    "outputId": "dd070433-e0ae-4ba0-a5a0-28bd8d6d7512"
   },
   "outputs": [],
   "source": [
    "## Display card1\n"
   ]
  },
  {
   "cell_type": "markdown",
   "metadata": {
    "id": "63ZvDtqoPpyS"
   },
   "source": [
    "## Using special methods to control the output of a class"
   ]
  },
  {
   "cell_type": "code",
   "execution_count": null,
   "metadata": {
    "ExecuteTime": {
     "end_time": "2021-04-27T15:01:58.131772Z",
     "start_time": "2021-04-27T15:01:58.127644Z"
    },
    "colab": {
     "base_uri": "https://localhost:8080/",
     "height": 52
    },
    "id": "n_cHonboPpyS",
    "outputId": "14da6489-d078-4117-d464-784b905c7037"
   },
   "outputs": [],
   "source": [
    "## Display card 1\n"
   ]
  },
  {
   "cell_type": "markdown",
   "metadata": {
    "id": "rTDVjLb4PpyS"
   },
   "source": [
    "### `__repr__()`  &  `__str__()`\n",
    "\n",
    "- Whenever an object is displayed, it runs the object's  `__repr__()` method. \n",
    "- Whenever an object is printed, it runs the  `__str__()` method.\n",
    "\n",
    "- They are both designed to return string-representations of the object. \n",
    "    - But `__repr__()` focuses on minimizing ambiguity while `__str__()` focuses on readability. \n",
    "- However, if your class has no `__str__()` method, it will fall back on `__repr__()` (if it exists!). \n",
    "    - For more on this distinction, see [this post](https://dbader.org/blog/python-repr-vs-str)."
   ]
  },
  {
   "cell_type": "markdown",
   "metadata": {
    "ExecuteTime": {
     "end_time": "2021-04-27T15:05:03.363642Z",
     "start_time": "2021-04-27T15:05:03.361951Z"
    },
    "id": "C_mY9zVrPpyS"
   },
   "source": [
    "### Add a `__repr__` and ` __str__` method to our PlayingCard"
   ]
  },
  {
   "cell_type": "markdown",
   "metadata": {
    "id": "PrkSwXU9PpyS"
   },
   "source": [
    "- have `__repr__` return 'An Instance of a PlayingCard'\n",
    "- have `__str__` return \"A Playing Card\""
   ]
  },
  {
   "cell_type": "code",
   "execution_count": null,
   "metadata": {
    "ExecuteTime": {
     "end_time": "2021-04-27T15:06:18.907145Z",
     "start_time": "2021-04-27T15:06:18.902120Z"
    },
    "id": "biqlOtrNPpyS"
   },
   "outputs": [],
   "source": [
    "### add a __repr__() method that returns \"A Playing Card\"\n"
   ]
  },
  {
   "cell_type": "code",
   "execution_count": null,
   "metadata": {
    "ExecuteTime": {
     "end_time": "2021-04-27T15:06:26.653303Z",
     "start_time": "2021-04-27T15:06:26.649164Z"
    },
    "colab": {
     "base_uri": "https://localhost:8080/"
    },
    "id": "rIs6z2YJPpyS",
    "outputId": "857c1be0-0a27-417e-a9de-fd3de1661674"
   },
   "outputs": [],
   "source": [
    "## Test out our __repr__ & __str__\n"
   ]
  },
  {
   "cell_type": "markdown",
   "metadata": {
    "id": "L76_022sPpyS"
   },
   "source": [
    "### Making Things More Interesting"
   ]
  },
  {
   "cell_type": "markdown",
   "metadata": {
    "id": "3K6pr2VBPpyS"
   },
   "source": [
    "-  Instead of our text-based `__repr__` and `__str__`, let's be sneaky and use an image of card back for our `__repr__`.\n",
    "\n",
    "<img src=\"card_back.png\" width=100>"
   ]
  },
  {
   "cell_type": "code",
   "execution_count": null,
   "metadata": {
    "ExecuteTime": {
     "end_time": "2021-04-27T15:45:06.751160Z",
     "start_time": "2021-04-27T15:45:06.670308Z"
    },
    "colab": {
     "base_uri": "https://localhost:8080/",
     "height": 167
    },
    "id": "vHLgTSGFPpyS",
    "outputId": "01a2b317-6904-4536-e24c-c329267f1192"
   },
   "outputs": [],
   "source": [
    "from PIL import Image\n",
    "img = Image.open(\"card_back.png\")\n",
    "img.resize((100,150))"
   ]
  },
  {
   "cell_type": "markdown",
   "metadata": {
    "id": "ROSSG3o-PpyS"
   },
   "source": [
    "> - Add a `back` attribute that stores the image of the card. \n",
    "- Replace our `__repr__` with display the image\n",
    "    - Go ahead and delete our `__str__` since we want it to behave the same as `__repr__` anyway"
   ]
  },
  {
   "cell_type": "code",
   "execution_count": null,
   "metadata": {
    "ExecuteTime": {
     "end_time": "2021-04-27T15:08:17.649268Z",
     "start_time": "2021-04-27T15:08:17.643519Z"
    },
    "id": "cuVCA9wtPpyS"
   },
   "outputs": [],
   "source": [
    "### add a .back containing the stored image of the card.\n"
   ]
  },
  {
   "cell_type": "code",
   "execution_count": null,
   "metadata": {
    "ExecuteTime": {
     "end_time": "2021-04-27T15:08:18.279260Z",
     "start_time": "2021-04-27T15:08:18.258512Z"
    },
    "colab": {
     "base_uri": "https://localhost:8080/",
     "height": 167
    },
    "id": "3RAlVbNOPpyT",
    "outputId": "d44f2856-f1d2-46bf-d382-23909739040e"
   },
   "outputs": [],
   "source": [
    "## Test out our __repr__\n"
   ]
  },
  {
   "cell_type": "code",
   "execution_count": null,
   "metadata": {
    "ExecuteTime": {
     "end_time": "2021-04-27T15:08:26.280526Z",
     "start_time": "2021-04-27T15:08:26.271969Z"
    },
    "colab": {
     "base_uri": "https://localhost:8080/",
     "height": 185
    },
    "id": "T8Tbj-KWPpyT",
    "outputId": "836a824e-94c3-4ec5-a7ee-77f18244b53f"
   },
   "outputs": [],
   "source": [
    "# test our __str__"
   ]
  },
  {
   "cell_type": "code",
   "execution_count": null,
   "metadata": {
    "ExecuteTime": {
     "end_time": "2021-04-27T15:08:19.414553Z",
     "start_time": "2021-04-27T15:08:19.411154Z"
    },
    "colab": {
     "base_uri": "https://localhost:8080/"
    },
    "id": "f_7neuwKPpyT",
    "outputId": "3a18ab0e-01d2-4041-c065-f1287ca93cbe"
   },
   "outputs": [],
   "source": [
    "#test our .flip()\n"
   ]
  },
  {
   "cell_type": "markdown",
   "metadata": {
    "id": "UwdG_h4DPpyT"
   },
   "source": [
    "> Success!"
   ]
  },
  {
   "cell_type": "markdown",
   "metadata": {
    "id": "GJmOU47rPpyT"
   },
   "source": [
    "### Making our class even MORE fun "
   ]
  },
  {
   "cell_type": "markdown",
   "metadata": {
    "id": "R-4rmo_CPpyT"
   },
   "source": [
    "- Our `.flip()` method is kind of boring compared to our `__repr__`\n",
    "- If only we had some way of using symbols in our text instead of just boring old font.... 🤔"
   ]
  },
  {
   "cell_type": "code",
   "execution_count": null,
   "metadata": {
    "ExecuteTime": {
     "end_time": "2021-04-27T15:10:41.376852Z",
     "start_time": "2021-04-27T15:10:41.373914Z"
    },
    "colab": {
     "base_uri": "https://localhost:8080/"
    },
    "id": "dxRI2SM0PpyT",
    "outputId": "01ad66ab-3a7f-4dbf-87ca-730eddfacfb6"
   },
   "outputs": [],
   "source": [
    "## Our dictionary of suit symbols\n",
    "symbols = {'S':'♠️','C':'♣️','D':'♦️','H':'♥️'}\n",
    "symbols"
   ]
  },
  {
   "cell_type": "markdown",
   "metadata": {
    "id": "kPEBKT6KPpyT"
   },
   "source": [
    "> #### Use these emoji symbols plus the provided make_ascii_card to overhaul our class's .flip()"
   ]
  },
  {
   "cell_type": "code",
   "execution_count": null,
   "metadata": {
    "ExecuteTime": {
     "end_time": "2021-04-27T15:11:40.912836Z",
     "start_time": "2021-04-27T15:11:40.907797Z"
    },
    "colab": {
     "base_uri": "https://localhost:8080/"
    },
    "id": "yzjwTQHsPpyT",
    "outputId": "fee135f9-e8dd-43f5-face-3bc97f7f73f8"
   },
   "outputs": [],
   "source": [
    "def make_ascii_card(name, suit):\n",
    "    \"\"\"Ascii Card adapted from: https://codereview.stackexchange.com/questions/82103/ascii-fication-of-playing-cards\n",
    "    \"\"\"\n",
    "    symbols = {'S':'♠️','C':'♣️',\n",
    "               'D':'♦️','H':'♥️'}\n",
    "    suit_symbol = symbols[suit]\n",
    "    if name == '10':\n",
    "        space=''\n",
    "    else:\n",
    "        space = ' '\n",
    "\n",
    "    # add the individual card on a line by line basis\n",
    "    _ascii=[]\n",
    "    _ascii.append('┌─────────┐')\n",
    "    _ascii.append(f'│{name}{space}       │')#.format(rank, space))  # use two {} one for char, one for space or char\n",
    "    _ascii.append('│         │')\n",
    "    _ascii.append('│         │')\n",
    "    _ascii.append(f'│    {suit_symbol}   │') #.format(suit))\n",
    "    _ascii.append('│         │')\n",
    "    _ascii.append('│         │')\n",
    "    _ascii.append(f'│       {space}{name}│')#.format(space, rank))\n",
    "    _ascii.append('└─────────┘')\n",
    "    \n",
    "    return '\\n'.join(_ascii)\n",
    "\n",
    "\n",
    "\n",
    "print(make_ascii_card('A','D'))"
   ]
  },
  {
   "cell_type": "markdown",
   "metadata": {
    "id": "lIWkFQGoPpyT"
   },
   "source": [
    "> - Add a .face containing the stored ascii version of the card.\n",
    "- Change `.flip()` to use the new face.\n"
   ]
  },
  {
   "cell_type": "code",
   "execution_count": null,
   "metadata": {
    "ExecuteTime": {
     "end_time": "2021-04-27T15:13:05.024482Z",
     "start_time": "2021-04-27T15:13:05.019058Z"
    },
    "id": "Pi53-ieRPpyT"
   },
   "outputs": [],
   "source": [
    "### add a .face containing the stored ascii version of the card.\n"
   ]
  },
  {
   "cell_type": "code",
   "execution_count": null,
   "metadata": {
    "ExecuteTime": {
     "end_time": "2021-04-27T15:14:30.595365Z",
     "start_time": "2021-04-27T15:14:30.565917Z"
    },
    "colab": {
     "base_uri": "https://localhost:8080/",
     "height": 646
    },
    "id": "R1r8QRknPpyT",
    "outputId": "f4eb6c6c-640f-446f-d314-868c6e372f44"
   },
   "outputs": [],
   "source": [
    "## Run this cell to test our value comparison from before\n",
    "card1 = PlayingCard('J','H')\n",
    "display(card1)\n",
    "card1.flip()\n",
    "\n",
    "card2 = PlayingCard(7,'S')\n",
    "display(card2)\n",
    "card2.flip()\n",
    "\n",
    "card1>card2"
   ]
  },
  {
   "cell_type": "markdown",
   "metadata": {
    "id": "mvqBTmLuPpyT"
   },
   "source": [
    "> Yay!!! We are HUGE nerds but yay!!!!"
   ]
  },
  {
   "cell_type": "markdown",
   "metadata": {
    "id": "_Ir-nUbxPpyT"
   },
   "source": [
    "# NEXT:  Make a `Deck` to Explore some additional special methods. "
   ]
  },
  {
   "cell_type": "markdown",
   "metadata": {
    "id": "sFU4u_aOPpyU"
   },
   "source": [
    "### Overview - Whats in a Deck?\n",
    "\n",
    "***A Deck***\n",
    "- \"a collection of Cards\"\n",
    "    - Contains all standard 52 cards in a `.cards` attribute.\n",
    "- Has a  `.shuffle()` method.\n",
    "- Returns the number of cards in the deck as the `__repr__`\n",
    "\n",
    "- Has a `__getitem__` method to make the deck subscriptable"
   ]
  },
  {
   "cell_type": "code",
   "execution_count": null,
   "metadata": {
    "ExecuteTime": {
     "end_time": "2021-04-27T15:21:14.237671Z",
     "start_time": "2021-04-27T15:21:14.234542Z"
    },
    "id": "IlencGv4PpyU"
   },
   "outputs": [],
   "source": [
    "import numpy as np\n",
    "\n"
   ]
  },
  {
   "cell_type": "code",
   "execution_count": null,
   "metadata": {
    "colab": {
     "base_uri": "https://localhost:8080/"
    },
    "id": "tqd7P7ntPpyU",
    "outputId": "4424d9e3-31cc-4a47-fb58-06a1a140e74b"
   },
   "outputs": [],
   "source": [
    "## Test out the Deck class by running the next cells\n"
   ]
  },
  {
   "cell_type": "code",
   "execution_count": null,
   "metadata": {
    "ExecuteTime": {
     "end_time": "2021-04-27T15:21:44.380673Z",
     "start_time": "2021-04-27T15:21:44.372101Z"
    },
    "colab": {
     "base_uri": "https://localhost:8080/",
     "height": 167
    },
    "id": "fAOTBMQMPpyU",
    "outputId": "259b64da-20cd-447d-edfa-7314c69ae847",
    "scrolled": true
   },
   "outputs": [],
   "source": [
    "## Slice out the first .cards\n"
   ]
  },
  {
   "cell_type": "code",
   "execution_count": null,
   "metadata": {
    "ExecuteTime": {
     "end_time": "2021-04-27T15:23:07.753620Z",
     "start_time": "2021-04-27T15:23:07.750831Z"
    },
    "colab": {
     "base_uri": "https://localhost:8080/"
    },
    "id": "xMkPQxjiPpyU",
    "outputId": "dcd47a9d-bd9c-4fce-bbe8-4a3ca35e7998"
   },
   "outputs": [],
   "source": [
    "## Slice first card directly and flip\n"
   ]
  },
  {
   "cell_type": "code",
   "execution_count": null,
   "metadata": {
    "ExecuteTime": {
     "end_time": "2021-04-27T15:23:18.082274Z",
     "start_time": "2021-04-27T15:23:18.079557Z"
    },
    "colab": {
     "base_uri": "https://localhost:8080/"
    },
    "id": "-FndGdYHPpyU",
    "outputId": "0dfa81b4-ed2f-4157-e70c-a47c7f3468a0",
    "scrolled": true
   },
   "outputs": [],
   "source": [
    "## shuffle and flip the first card again\n"
   ]
  },
  {
   "cell_type": "code",
   "execution_count": null,
   "metadata": {
    "ExecuteTime": {
     "end_time": "2021-04-27T15:21:41.532922Z",
     "start_time": "2021-04-27T15:21:41.527979Z"
    },
    "id": "Yqq0g1NxPpyU"
   },
   "outputs": [],
   "source": [
    "## Completed Deck Class\n"
   ]
  },
  {
   "cell_type": "code",
   "execution_count": null,
   "metadata": {
    "id": "wZHAV2TLPpyU"
   },
   "outputs": [],
   "source": []
  },
  {
   "cell_type": "markdown",
   "metadata": {
    "id": "JWR_nL_QPpyU"
   },
   "source": [
    "# Nice!\n",
    "\n",
    "## To recap, we:\n",
    "\n",
    "1. Built a Card object using `class`.\n",
    "    - Used `__init__(self)` to set attributes and run processes when the object is created.\n",
    "    - Created a method `flip(self)` which \"flips the card over\" (shows the name and suit).\n",
    "    - Experimented with `__str__` and `__repr__`.\n",
    "\n",
    "  \n",
    "2. Built a Deck object that uses `Cards`!\n",
    "    - Decks can `shuffle` and `shuffle_and_deal`.\n",
    "    \n",
    "---\n",
    "\n",
    "There are some points which we missed for the sake of drawing up the example.\n",
    "\n",
    "- We could clean up the Card functions for deciding what to do if a user tries to create a Card without a real `name` or `suit`.\n",
    "\n",
    "- We also don't have a plan for what happens if the Deck uses `shuffle_and_deal` but doesn't have enough cards left!"
   ]
  },
  {
   "cell_type": "markdown",
   "metadata": {
    "id": "RsLnWSCsPpyU"
   },
   "source": [
    "___"
   ]
  },
  {
   "cell_type": "markdown",
   "metadata": {
    "id": "e8Qdrucz2BqK"
   },
   "source": [
    "# APPENDIX"
   ]
  },
  {
   "cell_type": "markdown",
   "metadata": {
    "id": "bKQi2RmzPpyU"
   },
   "source": [
    "## Inheritance\n"
   ]
  },
  {
   "cell_type": "markdown",
   "metadata": {
    "id": "hF8qr4s_PpyU"
   },
   "source": [
    "- We can inherit all of the properties of another class when we write a new one to save ourselves time and effort. "
   ]
  },
  {
   "cell_type": "markdown",
   "metadata": {
    "id": "_hreJdfL2Iym"
   },
   "source": [
    "\n",
    "### Use inheritance to make our own OneHotEncoder"
   ]
  },
  {
   "cell_type": "code",
   "execution_count": null,
   "metadata": {
    "colab": {
     "base_uri": "https://localhost:8080/",
     "height": 335
    },
    "id": "mXqOAuulPpyU",
    "outputId": "c224edd1-b0b4-48f9-e24a-527ff7c536f9"
   },
   "outputs": [],
   "source": [
    "import pandas as pd\n",
    "url = url ='https://raw.githubusercontent.com/jirvingphd/iowa-prisoner-recidivism-mod-3-project/b6a92d1474c3eee790ab894f79751d69578bfb18/datasets/FULL_3-Year_Recidivism_for_Offenders_Released_from_Prison_in_Iowa.csv'\n"
   ]
  },
  {
   "cell_type": "code",
   "execution_count": null,
   "metadata": {
    "ExecuteTime": {
     "end_time": "2021-04-27T15:25:18.454639Z",
     "start_time": "2021-04-27T15:25:17.137337Z"
    },
    "colab": {
     "base_uri": "https://localhost:8080/",
     "height": 478
    },
    "id": "5moTMDW6PpyU",
    "outputId": "aa391f92-cf05-4206-dabd-4a67c6633848",
    "scrolled": false
   },
   "outputs": [],
   "source": [
    "## Getting the dataset ready (don't worry about this code for now)\n",
    "df= pd.read_csv(url)\n",
    "df.fillna('MISSING',inplace=True)\n",
    "drop_cols= [col for col in df.columns if 'New' in col]\n",
    "drop_cols.append('Days to Recidivism')\n",
    "df.drop(columns=drop_cols,inplace=True)\n",
    "df.head()\n"
   ]
  },
  {
   "cell_type": "code",
   "execution_count": null,
   "metadata": {
    "ExecuteTime": {
     "end_time": "2021-04-27T15:30:23.892831Z",
     "start_time": "2021-04-27T15:30:23.877657Z"
    },
    "colab": {
     "base_uri": "https://localhost:8080/"
    },
    "id": "dMNOlbu_PpyU",
    "outputId": "542c603c-3462-40ff-a1b9-f41ee1e56c0e"
   },
   "outputs": [],
   "source": [
    "## let's encode \"ReleaseType\" using onehotencoder\n",
    "from sklearn.preprocessing import OneHotEncoder\n",
    "cols_to_encode = ['Release Type']\n",
    "\n",
    "encoder = OneHotEncoder(sparse=False).fit(df[cols_to_encode])\n",
    "\n",
    "data_ohe = encoder.transform(df[cols_to_encode])\n",
    "data_ohe"
   ]
  },
  {
   "cell_type": "code",
   "execution_count": null,
   "metadata": {
    "ExecuteTime": {
     "end_time": "2021-04-27T15:32:23.181997Z",
     "start_time": "2021-04-27T15:32:23.162633Z"
    },
    "colab": {
     "base_uri": "https://localhost:8080/",
     "height": 592
    },
    "id": "vqFLOO4MPpyU",
    "outputId": "879b5521-1a58-43e2-b6a4-d621ac691e68"
   },
   "outputs": [],
   "source": [
    "## Turn data_ohe into a dataframe:\n",
    "data_ohe = pd.DataFrame(data_ohe,\n",
    "                        columns = encoder.get_feature_names(cols_to_encode))\n",
    "data_ohe"
   ]
  },
  {
   "cell_type": "markdown",
   "metadata": {
    "id": "g9ZdLksNPpyV"
   },
   "source": [
    "### Make our own Encoder"
   ]
  },
  {
   "cell_type": "code",
   "execution_count": null,
   "metadata": {
    "ExecuteTime": {
     "end_time": "2021-04-27T15:29:29.129711Z",
     "start_time": "2021-04-27T15:29:29.127405Z"
    },
    "id": "skfeIQcmPpyV"
   },
   "outputs": [],
   "source": [
    "class OurOneHotEncoder(OneHotEncoder):\n",
    "    pass"
   ]
  },
  {
   "cell_type": "code",
   "execution_count": null,
   "metadata": {
    "ExecuteTime": {
     "end_time": "2021-04-27T15:29:46.500311Z",
     "start_time": "2021-04-27T15:29:46.494902Z"
    },
    "colab": {
     "base_uri": "https://localhost:8080/"
    },
    "id": "FolSWkH5PpyV",
    "outputId": "0a0cc817-4020-498d-8f8c-1c526fd49191"
   },
   "outputs": [],
   "source": [
    "help(OurOneHotEncoder)"
   ]
  },
  {
   "cell_type": "markdown",
   "metadata": {
    "id": "xx9SSiNdPpyV"
   },
   "source": [
    "### Add a method to transform the data as a dataframe."
   ]
  },
  {
   "cell_type": "code",
   "execution_count": null,
   "metadata": {
    "ExecuteTime": {
     "end_time": "2021-04-27T15:32:43.422096Z",
     "start_time": "2021-04-27T15:32:43.419146Z"
    },
    "id": "RQ8j0uVIPpyV"
   },
   "outputs": [],
   "source": [
    "\n",
    "def transform_as_df(self,X,orig_features):\n",
    "    data_ohe = self.transform(X)\n",
    "    df_ohe = pd.DataFrame(data_ohe,\n",
    "                        columns = encoder.get_feature_names(orig_features))\n",
    "    return df_ohe\n",
    "    \n",
    "OurOneHotEncoder.transform_as_df = transform_as_df\n"
   ]
  },
  {
   "cell_type": "code",
   "execution_count": null,
   "metadata": {
    "ExecuteTime": {
     "end_time": "2021-04-27T15:33:03.244172Z",
     "start_time": "2021-04-27T15:33:03.215042Z"
    },
    "colab": {
     "base_uri": "https://localhost:8080/",
     "height": 592
    },
    "id": "3vnORaVEPpyV",
    "outputId": "78019637-b010-49a4-d9d0-f26b2244dc82"
   },
   "outputs": [],
   "source": [
    "cols_to_encode = ['Release Type']\n",
    "\n",
    "encoder = OurOneHotEncoder(sparse=False).fit(df[cols_to_encode])\n",
    "data_ohe = encoder.transform_as_df(df[cols_to_encode],cols_to_encode)\n",
    "data_ohe"
   ]
  },
  {
   "cell_type": "code",
   "execution_count": null,
   "metadata": {
    "id": "AqPpGvkAPpyV"
   },
   "outputs": [],
   "source": []
  }
 ],
 "metadata": {
  "colab": {
   "collapsed_sections": [],
   "include_colab_link": true,
   "name": "OOP_playing_cards_instructor.ipynb",
   "provenance": [],
   "toc_visible": true
  },
  "interpreter": {
   "hash": "c15d3b161d9e31d3c14101c293414707f40e59d6cae0bbd6b708ca3d1e942f6f"
  },
  "kernelspec": {
   "display_name": "Python (dojo-env)",
   "language": "python",
   "name": "dojo-env"
  },
  "language_info": {
   "codemirror_mode": {
    "name": "ipython",
    "version": 3
   },
   "file_extension": ".py",
   "mimetype": "text/x-python",
   "name": "python",
   "nbconvert_exporter": "python",
   "pygments_lexer": "ipython3",
   "version": "3.8.13"
  },
  "toc": {
   "base_numbering": 1,
   "nav_menu": {},
   "number_sections": false,
   "sideBar": true,
   "skip_h1_title": false,
   "title_cell": "Table of Contents",
   "title_sidebar": "Contents",
   "toc_cell": false,
   "toc_position": {
    "height": "calc(100% - 180px)",
    "left": "10px",
    "top": "150px",
    "width": "256px"
   },
   "toc_section_display": true,
   "toc_window_display": true
  }
 },
 "nbformat": 4,
 "nbformat_minor": 1
}
